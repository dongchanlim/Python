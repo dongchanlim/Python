{
 "cells": [
  {
   "cell_type": "markdown",
   "metadata": {},
   "source": [
    "For this assignment, you are supplied with a file containing two working classes and a main function that tests them. Your job is to break this up into three files, one for each class and one for the main function.\n",
    "\n",
    "Start by downloading the following file:\n",
    "\n",
    "[check04b.py](https://content.byui.edu/file/2d56f586-44ba-4e35-9d65-19bc32b5d489/1/CS241/week04/check04b.py)\n",
    "\n",
    "This file contains a class for an address, and one for a credit card. The credit card contains two addresses, a mailing address and a billing address. Each class also contains a display function. The main function asks the user for some basic information, populates a credit card object and displays it.\n",
    "\n",
    "You should take the code from check04b.py file and seperate into 3 new files:\n",
    "\n",
    "> * credit_card.py  \n",
    "> * address.py  \n",
    "> * main.py  \n",
    "\n",
    "`main.py` should contain the main function and import the `CreditCard` class from `credit_card.py`. The file credit_card.py should import the `Address` class from `address.py`"
   ]
  },
  {
   "cell_type": "code",
   "execution_count": 8,
   "metadata": {},
   "outputs": [],
   "source": [
    "from address import Address\n",
    "\n",
    "class CreditCard:\n",
    "    \"\"\" Contains a credit card that has two addressess\"\"\"\n",
    "    def __init__(self):\n",
    "        self.name = \"\"\n",
    "        self.number = \"\"\n",
    "        self.mailing_address = Address()\n",
    "        self.billing_address = Address()\n",
    "        \n",
    "    def display(self):\n",
    "        print(self.name)\n",
    "        print(self.number)\n",
    "        print(\"Mailing Address:\")\n",
    "        self.mailing_address.display()\n",
    "        print(\"Billing Address:\")\n",
    "        self.billing_address.display()  "
   ]
  },
  {
   "cell_type": "code",
   "execution_count": 9,
   "metadata": {},
   "outputs": [],
   "source": [
    "class Address:\n",
    "    \"\"\" Contains a street address \"\"\"\n",
    "    def __init__(self):\n",
    "        self.street = \"\"\n",
    "        self.city = \"\"\n",
    "        self.state = \"\"\n",
    "        self.zip = \"\"\n",
    "\n",
    "    def display(self):\n",
    "        print(self.street)\n",
    "        print(\"{}, {} {}\".format(self.city, self.state, self.zip))"
   ]
  },
  {
   "cell_type": "code",
   "execution_count": null,
   "metadata": {},
   "outputs": [],
   "source": [
    "from credit_card import CreditCard\n",
    "\n",
    "def main():\n",
    "    cc = CreditCard()\n",
    "\n",
    "    cc.name = input(\"Name: \")\n",
    "    cc.number = input(\"Number: \")\n",
    "    \n",
    "    print(\"Mailing Address:\")\n",
    "    cc.mailing_address.street = input(\"Street: \")\n",
    "    cc.mailing_address.city = input(\"City: \")\n",
    "    cc.mailing_address.state = input(\"State: \")\n",
    "    cc.mailing_address.zip = input(\"Zip: \")\n",
    "    \n",
    "    print(\"Billing Address:\")\n",
    "    cc.billing_address.street = input(\"Street: \")\n",
    "    cc.billing_address.city = input(\"City: \")\n",
    "    cc.billing_address.state = input(\"State: \")\n",
    "    cc.billing_address.zip = input(\"Zip: \")\n",
    "\n",
    "    cc.display()\n",
    "    \n",
    "if __name__ == \"__main__\":\n",
    "    main()\n"
   ]
  }
 ],
 "metadata": {
  "kernelspec": {
   "display_name": "Python 3",
   "language": "python",
   "name": "python3"
  },
  "language_info": {
   "codemirror_mode": {
    "name": "ipython",
    "version": 3
   },
   "file_extension": ".py",
   "mimetype": "text/x-python",
   "name": "python",
   "nbconvert_exporter": "python",
   "pygments_lexer": "ipython3",
   "version": "3.7.3"
  }
 },
 "nbformat": 4,
 "nbformat_minor": 2
}
