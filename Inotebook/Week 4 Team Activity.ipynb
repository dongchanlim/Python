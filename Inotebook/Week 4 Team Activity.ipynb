{
 "cells": [
  {
   "cell_type": "markdown",
   "metadata": {},
   "source": [
    "Assume you have been asked to work on the I-Learn system. One of the components of that system is to handle assignments. Each assignment has three different dates: a start date, a due date, and an end date.\n",
    "\n",
    "Your task is to write a Python class for an Assignment, and another for Date. (Please note that there is a built in class for \"datetime\" in Python, but we are practicing creating our own classes here, so we'll just use our simple one for this example and make it ourselves.)\n",
    "\n",
    "In addition, you should put each of these classes in their own file, and then another file that contains a main function to test them. Thus, you should have 3 separate files.\n",
    "\n",
    "> For the Date class:\n",
    "> * Day, month, and year all store integer values.  \n",
    "> * The __init__ function should initialize the date to January 1, 2000  \n",
    "> * The prompt function should ask for a day, month, and year value.  \n",
    "> * The display function should display the date in the format \"mm/dd/yyyy\"  \n",
    "\n",
    "> For the Assignment class:\n",
    "> * Name holds a string, and the start, due, and end dates all hold Dates.  \n",
    "> * The __init__ function should initialize the name to \"Untitled\" and the dates to empty Date objects.  \n",
    "> * The prompt function should ask for a name, then each of the three dates in turn. (Don't forget to make use of the date class methods here.)  \n",
    "> * The display function should display the name and each of the dates (don't forget to make use of the date class methods here.)  "
   ]
  },
  {
   "cell_type": "markdown",
   "metadata": {},
   "source": [
    "## Core Requirements\n",
    "\n",
    "1. Create a Date class in a file date.py with the above variables and methods.\n",
    "\n",
    "2. Create an Assignment class in a file assignment.py with the above variables and methods. Have it import the Date class from the date.py file.\n",
    "\n",
    "3. Create a main function in a file main.py that creates a new Assignment, prompts for its values and display them. Have it import the Assignment class from the assignment.py file. Then, tar up your files and ensure that your solution passes testBed. (See the instructions for Check04B for more information.)"
   ]
  },
  {
   "cell_type": "code",
   "execution_count": 1,
   "metadata": {},
   "outputs": [],
   "source": [
    "class Date:\n",
    "    def __init__(self):\n",
    "        self.day = 1\n",
    "        self.month = 1\n",
    "        self.year = 2000\n",
    "    def prompt(self):\n",
    "        self.day = int(input(\"Day: \"))\n",
    "        self.month = int(input(\"Month: \"))\n",
    "        self.year = int(input(\"Year: \"))\n",
    "    def display(self):\n",
    "        print(\"{}/{}/{}\".format(self.month, self.day, self.year))"
   ]
  },
  {
   "cell_type": "code",
   "execution_count": 2,
   "metadata": {},
   "outputs": [],
   "source": [
    "class Assignment:\n",
    "    def __init__(self):\n",
    "        self.name = \"Untitled\"\n",
    "        self.start = Date()\n",
    "        self.due = Date()\n",
    "        self.end = Date()\n",
    "    def prompt(self):\n",
    "        self.name = input(\"Assignment: \")\n",
    "        self.start.prompt()\n",
    "        self.due.prompt()\n",
    "        self.end.prompt()\n",
    "    def display(self):\n",
    "        print(\"Assignment: {}\".format(self.name))\n",
    "        print(\"Start Date: \")\n",
    "        self.start.display()\n",
    "        print(\"Due Date: \")\n",
    "        self.due.display()\n",
    "        print(\"End Date: \")\n",
    "        self.end.display()"
   ]
  },
  {
   "cell_type": "code",
   "execution_count": 3,
   "metadata": {},
   "outputs": [],
   "source": [
    "def main():\n",
    "    assignment = Assignment()\n",
    "    assignment.prompt()\n",
    "    assignment.display()"
   ]
  },
  {
   "cell_type": "code",
   "execution_count": 4,
   "metadata": {},
   "outputs": [
    {
     "name": "stdout",
     "output_type": "stream",
     "text": [
      "Assignment: python\n",
      "Day: 3\n",
      "Month: 3\n",
      "Year: 1990\n",
      "Day: 3\n",
      "Month: 3\n",
      "Year: 1990\n",
      "Day: 4\n",
      "Month: 3\n",
      "Year: 1990\n",
      "Assignment: python\n",
      "Start Date: \n",
      "3/3/1990\n",
      "Due Date: \n",
      "3/3/1990\n",
      "End Date: \n",
      "3/4/1990\n"
     ]
    }
   ],
   "source": [
    "if __name__ == \"__main__\":\n",
    "    main()"
   ]
  },
  {
   "cell_type": "markdown",
   "metadata": {},
   "source": [
    "## Stretch Challenges\n",
    "\n",
    "> 1. Detect if a user enters an invalid month (not 1-12) or a year before 2000 and reprompt them. (We won't worry about days at this point...)\n",
    "> 2. Change the display function for dates so that months and days are always two digits (e.g. 01/02/2000 instead of 1/2/2000)\n",
    "> 3. Create a display_long function for dates to display them in long format: January 01, 2000 (instead of 01/01/2000)"
   ]
  },
  {
   "cell_type": "code",
   "execution_count": 27,
   "metadata": {},
   "outputs": [],
   "source": [
    "import calendar\n",
    "\n",
    "class Date:\n",
    "    def __init__(self):\n",
    "        self.day = 1\n",
    "        self.month = 1\n",
    "        self.year = 2000\n",
    "    def prompt(self):\n",
    "        self.day = int(input(\"Day: \"))\n",
    "        again =  True\n",
    "        while again:\n",
    "            self.month = int(input(\"Month: \"))\n",
    "            if (self.month >= 1 and self.month <= 12):\n",
    "                while again:\n",
    "                    self.year = int(input(\"Year: \"))\n",
    "                    if (self.year >= 2000):\n",
    "                        again = False\n",
    "    def display(self):\n",
    "        print(\"{:02d}/{:02d}/{}\".format(self.month, self.day, self.year))\n",
    "        \n",
    "    def display_long(self):\n",
    "        self.month_long = calendar.month_name[self.month]\n",
    "        print(\"{}/{:02d}/{}\".format(self.month_long, self.day, self.year))"
   ]
  },
  {
   "cell_type": "code",
   "execution_count": 28,
   "metadata": {},
   "outputs": [],
   "source": [
    "class Assignment:\n",
    "    def __init__(self):\n",
    "        self.name = \"Untitled\"\n",
    "        self.start = Date()\n",
    "        self.due = Date()\n",
    "        self.end = Date()\n",
    "    def prompt(self):\n",
    "        self.name = input(\"Assignment: \")\n",
    "        self.start.prompt()\n",
    "        self.due.prompt()\n",
    "        self.end.prompt()\n",
    "    def display(self):\n",
    "        print(\"Assignment: {}\".format(self.name))\n",
    "        print(\"Start Date: \")\n",
    "        self.start.display_long()\n",
    "        print(\"Due Date: \")\n",
    "        self.due.display_long()\n",
    "        print(\"End Date: \")\n",
    "        self.end.display_long()"
   ]
  },
  {
   "cell_type": "code",
   "execution_count": 29,
   "metadata": {},
   "outputs": [],
   "source": [
    "def main():\n",
    "    assignment = Assignment()\n",
    "    assignment.prompt()\n",
    "    assignment.display()"
   ]
  },
  {
   "cell_type": "code",
   "execution_count": 30,
   "metadata": {},
   "outputs": [
    {
     "name": "stdout",
     "output_type": "stream",
     "text": [
      "Assignment: math\n",
      "Day: 3\n",
      "Month: 4\n",
      "Year: 2001\n",
      "Day: 4\n",
      "Month: 5\n",
      "Year: 20001\n",
      "Day: 5\n",
      "Month: 6\n",
      "Year: 2001\n",
      "Assignment: math\n",
      "Start Date: \n",
      "April/03/2001\n",
      "Due Date: \n",
      "May/04/20001\n",
      "End Date: \n",
      "June/05/2001\n"
     ]
    }
   ],
   "source": [
    "if __name__ == \"__main__\":\n",
    "    main()"
   ]
  },
  {
   "cell_type": "code",
   "execution_count": null,
   "metadata": {},
   "outputs": [],
   "source": []
  }
 ],
 "metadata": {
  "kernelspec": {
   "display_name": "Python 3",
   "language": "python",
   "name": "python3"
  },
  "language_info": {
   "codemirror_mode": {
    "name": "ipython",
    "version": 3
   },
   "file_extension": ".py",
   "mimetype": "text/x-python",
   "name": "python",
   "nbconvert_exporter": "python",
   "pygments_lexer": "ipython3",
   "version": "3.7.3"
  }
 },
 "nbformat": 4,
 "nbformat_minor": 2
}
