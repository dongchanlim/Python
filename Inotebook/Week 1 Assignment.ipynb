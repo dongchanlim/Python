{
 "cells": [
  {
   "cell_type": "markdown",
   "metadata": {},
   "source": [
    "Write a Python 3 program that randomly selects a number from 1-100, and then prompts the user for guesses. After each incorrect guess, the program helps the user by directing them to guess higher or lower. When the user guesses the correct number, the program will display the number of guesses the user made and ask them if they would like to play again."
   ]
  },
  {
   "cell_type": "code",
   "execution_count": 4,
   "metadata": {},
   "outputs": [],
   "source": [
    "import random\n",
    "from random import randint"
   ]
  },
  {
   "cell_type": "code",
   "execution_count": null,
   "metadata": {},
   "outputs": [
    {
     "name": "stdout",
     "output_type": "stream",
     "text": [
      "Welcome to the number guessing game!\n"
     ]
    }
   ],
   "source": [
    "print(\"Welcome to the number guessing game!\")\n",
    "my_seed = input(\"Enter random seed: \")\n",
    "random.seed(my_seed)"
   ]
  },
  {
   "cell_type": "code",
   "execution_count": null,
   "metadata": {},
   "outputs": [],
   "source": [
    "again = \"yes\"\n",
    "while again == \"yes\":\n",
    "    low = 1\n",
    "    high = 100\n",
    "    num = randint(low, high)\n",
    "    guess = None\n",
    "    count = 0\n",
    "    while guess != num:\n",
    "        print()\n",
    "        guess = int(input(\"Please enter a guess: \"))\n",
    "        count += 1\n",
    "        if guess < num :\n",
    "            print(\"Higher\")\n",
    "        elif guess > num:\n",
    "            print(\"Lower\")\n",
    "        else:\n",
    "            print(\"Congratulations. You guessed it!\")\n",
    "            print(\"It took you {} guesses.\".format(count))\n",
    "    print()\n",
    "    again = input(\"Would you like to play again (yes/no)? \")\n",
    "print(\"Thank you. Goodbye.\")\n",
    "        "
   ]
  },
  {
   "cell_type": "code",
   "execution_count": null,
   "metadata": {},
   "outputs": [],
   "source": []
  }
 ],
 "metadata": {
  "kernelspec": {
   "display_name": "Python 3",
   "language": "python",
   "name": "python3"
  },
  "language_info": {
   "codemirror_mode": {
    "name": "ipython",
    "version": 3
   },
   "file_extension": ".py",
   "mimetype": "text/x-python",
   "name": "python",
   "nbconvert_exporter": "python",
   "pygments_lexer": "ipython3",
   "version": "3.7.3"
  }
 },
 "nbformat": 4,
 "nbformat_minor": 2
}
