{
 "cells": [
  {
   "cell_type": "markdown",
   "metadata": {},
   "source": [
    "# Circle Game"
   ]
  },
  {
   "cell_type": "code",
   "execution_count": 1,
   "metadata": {},
   "outputs": [
    {
     "name": "stdout",
     "output_type": "stream",
     "text": [
      "Requirement already satisfied: arcade in c:\\users\\dchan\\appdata\\roaming\\python\\python37\\site-packages (2.0.9)\n",
      "Requirement already satisfied: pyglet==1.4.0b1 in c:\\users\\dchan\\appdata\\roaming\\python\\python37\\site-packages (from arcade) (1.4.0b1)\n",
      "Requirement already satisfied: numpy in c:\\users\\dchan\\appdata\\roaming\\python\\python37\\site-packages (from arcade) (1.16.3)\n",
      "Requirement already satisfied: pillow in c:\\users\\dchan\\appdata\\roaming\\python\\python37\\site-packages (from arcade) (6.0.0)\n",
      "Requirement already satisfied: pyglet-ffmpeg2 in c:\\users\\dchan\\appdata\\roaming\\python\\python37\\site-packages (from arcade) (0.1.12)\n",
      "Requirement already satisfied: future in c:\\users\\dchan\\appdata\\roaming\\python\\python37\\site-packages (from pyglet==1.4.0b1->arcade) (0.17.1)\n"
     ]
    }
   ],
   "source": [
    "! pip install arcade"
   ]
  },
  {
   "cell_type": "code",
   "execution_count": 2,
   "metadata": {},
   "outputs": [
    {
     "ename": "OSError",
     "evalue": "[WinError 193] %1 is not a valid Win32 application",
     "output_type": "error",
     "traceback": [
      "\u001b[1;31m---------------------------------------------------------------------------\u001b[0m",
      "\u001b[1;31mOSError\u001b[0m                                   Traceback (most recent call last)",
      "\u001b[1;32m<ipython-input-2-d967949aea96>\u001b[0m in \u001b[0;36m<module>\u001b[1;34m\u001b[0m\n\u001b[1;32m----> 1\u001b[1;33m \u001b[1;32mimport\u001b[0m \u001b[0marcade\u001b[0m\u001b[1;33m\u001b[0m\u001b[1;33m\u001b[0m\u001b[0m\n\u001b[0m\u001b[0;32m      2\u001b[0m \u001b[1;32mimport\u001b[0m \u001b[0mrandom\u001b[0m\u001b[1;33m\u001b[0m\u001b[1;33m\u001b[0m\u001b[0m\n\u001b[0;32m      3\u001b[0m \u001b[1;33m\u001b[0m\u001b[0m\n\u001b[0;32m      4\u001b[0m \u001b[1;31m### Represents a velocity in the coordinate system\u001b[0m\u001b[1;33m\u001b[0m\u001b[1;33m\u001b[0m\u001b[1;33m\u001b[0m\u001b[0m\n\u001b[0;32m      5\u001b[0m \u001b[1;32mclass\u001b[0m \u001b[0mVelocity\u001b[0m\u001b[1;33m:\u001b[0m\u001b[1;33m\u001b[0m\u001b[1;33m\u001b[0m\u001b[0m\n",
      "\u001b[1;32m~\\AppData\\Roaming\\Python\\Python37\\site-packages\\arcade\\__init__.py\u001b[0m in \u001b[0;36m<module>\u001b[1;34m\u001b[0m\n\u001b[0;32m     24\u001b[0m \u001b[1;32mfrom\u001b[0m \u001b[0marcade\u001b[0m \u001b[1;32mimport\u001b[0m \u001b[0mcsscolor\u001b[0m\u001b[1;33m\u001b[0m\u001b[1;33m\u001b[0m\u001b[0m\n\u001b[0;32m     25\u001b[0m \u001b[1;32mfrom\u001b[0m \u001b[0marcade\u001b[0m \u001b[1;32mimport\u001b[0m \u001b[0mkey\u001b[0m\u001b[1;33m\u001b[0m\u001b[1;33m\u001b[0m\u001b[0m\n\u001b[1;32m---> 26\u001b[1;33m \u001b[1;32mfrom\u001b[0m \u001b[0marcade\u001b[0m\u001b[1;33m.\u001b[0m\u001b[0mapplication\u001b[0m \u001b[1;32mimport\u001b[0m \u001b[1;33m*\u001b[0m\u001b[1;33m\u001b[0m\u001b[1;33m\u001b[0m\u001b[0m\n\u001b[0m\u001b[0;32m     27\u001b[0m \u001b[1;32mfrom\u001b[0m \u001b[0marcade\u001b[0m\u001b[1;33m.\u001b[0m\u001b[0marcade_types\u001b[0m \u001b[1;32mimport\u001b[0m \u001b[1;33m*\u001b[0m\u001b[1;33m\u001b[0m\u001b[1;33m\u001b[0m\u001b[0m\n\u001b[0;32m     28\u001b[0m \u001b[1;32mfrom\u001b[0m \u001b[0marcade\u001b[0m\u001b[1;33m.\u001b[0m\u001b[0mutils\u001b[0m \u001b[1;32mimport\u001b[0m \u001b[1;33m*\u001b[0m\u001b[1;33m\u001b[0m\u001b[1;33m\u001b[0m\u001b[0m\n",
      "\u001b[1;32m~\\AppData\\Roaming\\Python\\Python37\\site-packages\\arcade\\application.py\u001b[0m in \u001b[0;36m<module>\u001b[1;34m\u001b[0m\n\u001b[0;32m      6\u001b[0m \u001b[1;32mfrom\u001b[0m \u001b[0mnumbers\u001b[0m \u001b[1;32mimport\u001b[0m \u001b[0mNumber\u001b[0m\u001b[1;33m\u001b[0m\u001b[1;33m\u001b[0m\u001b[0m\n\u001b[0;32m      7\u001b[0m \u001b[1;33m\u001b[0m\u001b[0m\n\u001b[1;32m----> 8\u001b[1;33m \u001b[1;32mfrom\u001b[0m \u001b[0marcade\u001b[0m\u001b[1;33m.\u001b[0m\u001b[0mwindow_commands\u001b[0m \u001b[1;32mimport\u001b[0m \u001b[0mset_viewport\u001b[0m\u001b[1;33m\u001b[0m\u001b[1;33m\u001b[0m\u001b[0m\n\u001b[0m\u001b[0;32m      9\u001b[0m \u001b[1;32mfrom\u001b[0m \u001b[0marcade\u001b[0m\u001b[1;33m.\u001b[0m\u001b[0mwindow_commands\u001b[0m \u001b[1;32mimport\u001b[0m \u001b[0mget_viewport\u001b[0m\u001b[1;33m\u001b[0m\u001b[1;33m\u001b[0m\u001b[0m\n\u001b[0;32m     10\u001b[0m \u001b[1;32mfrom\u001b[0m \u001b[0marcade\u001b[0m\u001b[1;33m.\u001b[0m\u001b[0mwindow_commands\u001b[0m \u001b[1;32mimport\u001b[0m \u001b[0mset_window\u001b[0m\u001b[1;33m\u001b[0m\u001b[1;33m\u001b[0m\u001b[0m\n",
      "\u001b[1;32m~\\AppData\\Roaming\\Python\\Python37\\site-packages\\arcade\\window_commands.py\u001b[0m in \u001b[0;36m<module>\u001b[1;34m\u001b[0m\n\u001b[0;32m     12\u001b[0m \u001b[1;32mfrom\u001b[0m \u001b[0marcade\u001b[0m\u001b[1;33m.\u001b[0m\u001b[0mmonkey_patch_pyglet\u001b[0m \u001b[1;32mimport\u001b[0m \u001b[1;33m*\u001b[0m\u001b[1;33m\u001b[0m\u001b[1;33m\u001b[0m\u001b[0m\n\u001b[0;32m     13\u001b[0m \u001b[1;33m\u001b[0m\u001b[0m\n\u001b[1;32m---> 14\u001b[1;33m \u001b[1;32mimport\u001b[0m \u001b[0mnumpy\u001b[0m \u001b[1;32mas\u001b[0m \u001b[0mnp\u001b[0m\u001b[1;33m\u001b[0m\u001b[1;33m\u001b[0m\u001b[0m\n\u001b[0m\u001b[0;32m     15\u001b[0m \u001b[1;33m\u001b[0m\u001b[0m\n\u001b[0;32m     16\u001b[0m \u001b[1;32mfrom\u001b[0m \u001b[0mnumbers\u001b[0m \u001b[1;32mimport\u001b[0m \u001b[0mNumber\u001b[0m\u001b[1;33m\u001b[0m\u001b[1;33m\u001b[0m\u001b[0m\n",
      "\u001b[1;32m~\\AppData\\Roaming\\Python\\Python37\\site-packages\\numpy\\__init__.py\u001b[0m in \u001b[0;36m<module>\u001b[1;34m\u001b[0m\n\u001b[0;32m    140\u001b[0m     \u001b[1;32mfrom\u001b[0m \u001b[1;33m.\u001b[0m \u001b[1;32mimport\u001b[0m \u001b[0m_distributor_init\u001b[0m\u001b[1;33m\u001b[0m\u001b[1;33m\u001b[0m\u001b[0m\n\u001b[0;32m    141\u001b[0m \u001b[1;33m\u001b[0m\u001b[0m\n\u001b[1;32m--> 142\u001b[1;33m     \u001b[1;32mfrom\u001b[0m \u001b[1;33m.\u001b[0m \u001b[1;32mimport\u001b[0m \u001b[0mcore\u001b[0m\u001b[1;33m\u001b[0m\u001b[1;33m\u001b[0m\u001b[0m\n\u001b[0m\u001b[0;32m    143\u001b[0m     \u001b[1;32mfrom\u001b[0m \u001b[1;33m.\u001b[0m\u001b[0mcore\u001b[0m \u001b[1;32mimport\u001b[0m \u001b[1;33m*\u001b[0m\u001b[1;33m\u001b[0m\u001b[1;33m\u001b[0m\u001b[0m\n\u001b[0;32m    144\u001b[0m     \u001b[1;32mfrom\u001b[0m \u001b[1;33m.\u001b[0m \u001b[1;32mimport\u001b[0m \u001b[0mcompat\u001b[0m\u001b[1;33m\u001b[0m\u001b[1;33m\u001b[0m\u001b[0m\n",
      "\u001b[1;32m~\\AppData\\Roaming\\Python\\Python37\\site-packages\\numpy\\core\\__init__.py\u001b[0m in \u001b[0;36m<module>\u001b[1;34m\u001b[0m\n\u001b[0;32m     21\u001b[0m             \u001b[1;31m# NOTE: would it change behavior to load ALL\u001b[0m\u001b[1;33m\u001b[0m\u001b[1;33m\u001b[0m\u001b[1;33m\u001b[0m\u001b[0m\n\u001b[0;32m     22\u001b[0m             \u001b[1;31m# DLLs at this path vs. the name restriction?\u001b[0m\u001b[1;33m\u001b[0m\u001b[1;33m\u001b[0m\u001b[1;33m\u001b[0m\u001b[0m\n\u001b[1;32m---> 23\u001b[1;33m             \u001b[0mWinDLL\u001b[0m\u001b[1;33m(\u001b[0m\u001b[0mos\u001b[0m\u001b[1;33m.\u001b[0m\u001b[0mpath\u001b[0m\u001b[1;33m.\u001b[0m\u001b[0mabspath\u001b[0m\u001b[1;33m(\u001b[0m\u001b[0mfilename\u001b[0m\u001b[1;33m)\u001b[0m\u001b[1;33m)\u001b[0m\u001b[1;33m\u001b[0m\u001b[1;33m\u001b[0m\u001b[0m\n\u001b[0m\u001b[0;32m     24\u001b[0m             \u001b[0mDLL_filenames\u001b[0m\u001b[1;33m.\u001b[0m\u001b[0mappend\u001b[0m\u001b[1;33m(\u001b[0m\u001b[0mfilename\u001b[0m\u001b[1;33m)\u001b[0m\u001b[1;33m\u001b[0m\u001b[1;33m\u001b[0m\u001b[0m\n\u001b[0;32m     25\u001b[0m     \u001b[1;32mif\u001b[0m \u001b[0mlen\u001b[0m\u001b[1;33m(\u001b[0m\u001b[0mDLL_filenames\u001b[0m\u001b[1;33m)\u001b[0m \u001b[1;33m>\u001b[0m \u001b[1;36m1\u001b[0m\u001b[1;33m:\u001b[0m\u001b[1;33m\u001b[0m\u001b[1;33m\u001b[0m\u001b[0m\n",
      "\u001b[1;32m~\\Anaconda3\\lib\\ctypes\\__init__.py\u001b[0m in \u001b[0;36m__init__\u001b[1;34m(self, name, mode, handle, use_errno, use_last_error)\u001b[0m\n\u001b[0;32m    354\u001b[0m \u001b[1;33m\u001b[0m\u001b[0m\n\u001b[0;32m    355\u001b[0m         \u001b[1;32mif\u001b[0m \u001b[0mhandle\u001b[0m \u001b[1;32mis\u001b[0m \u001b[1;32mNone\u001b[0m\u001b[1;33m:\u001b[0m\u001b[1;33m\u001b[0m\u001b[1;33m\u001b[0m\u001b[0m\n\u001b[1;32m--> 356\u001b[1;33m             \u001b[0mself\u001b[0m\u001b[1;33m.\u001b[0m\u001b[0m_handle\u001b[0m \u001b[1;33m=\u001b[0m \u001b[0m_dlopen\u001b[0m\u001b[1;33m(\u001b[0m\u001b[0mself\u001b[0m\u001b[1;33m.\u001b[0m\u001b[0m_name\u001b[0m\u001b[1;33m,\u001b[0m \u001b[0mmode\u001b[0m\u001b[1;33m)\u001b[0m\u001b[1;33m\u001b[0m\u001b[1;33m\u001b[0m\u001b[0m\n\u001b[0m\u001b[0;32m    357\u001b[0m         \u001b[1;32melse\u001b[0m\u001b[1;33m:\u001b[0m\u001b[1;33m\u001b[0m\u001b[1;33m\u001b[0m\u001b[0m\n\u001b[0;32m    358\u001b[0m             \u001b[0mself\u001b[0m\u001b[1;33m.\u001b[0m\u001b[0m_handle\u001b[0m \u001b[1;33m=\u001b[0m \u001b[0mhandle\u001b[0m\u001b[1;33m\u001b[0m\u001b[1;33m\u001b[0m\u001b[0m\n",
      "\u001b[1;31mOSError\u001b[0m: [WinError 193] %1 is not a valid Win32 application"
     ]
    }
   ],
   "source": [
    "import arcade\n",
    "import random\n",
    "\n",
    "### Represents a velocity in the coordinate system\n",
    "class Velocity:\n",
    "    ### Initialize a Velocity object with default values\n",
    "    def __init__(self):\n",
    "        self.dx = 0.0\n",
    "        self.dy = 0.0\n",
    "\n",
    "### Represents a point in the coordinate system\n",
    "class Point:\n",
    "    ### Initialize a Point object with default values\n",
    "    def __init__(self):\n",
    "        self.x = 0.0\n",
    "        self.y = 0.0\n",
    "\n",
    "class Circle:\n",
    "\n",
    "    ### Initialize a Ball object with random velocity, color, and radius\n",
    "    ### The user must specify the location\n",
    "    def __init__(self, x, y):\n",
    "        self.center = Point()\n",
    "        self.velocity = Velocity()\n",
    "        self.center.x = x\n",
    "        self.center.y = y\n",
    "        self.velocity.dx = random.uniform(-5,5)\n",
    "        self.velocity.dy = random.uniform(-5,5)\n",
    "        self.color = (random.randint(0,256), random.randint(0,256), random.randint(0,256)) #RGB tuple\n",
    "        self.radius = random.uniform(0,20)\n",
    "\n",
    "    ### Draw the circle\n",
    "    def draw(self):\n",
    "        arcade.draw_circle_filled(self.center.x, self.center.y, self.radius, self.color)\n",
    "\n",
    "    ### Advance the circle based on velocity for 1 frame\n",
    "    def advance(self):\n",
    "        self.center.x += self.velocity.dx\n",
    "        self.center.y += self.velocity.dy\n",
    "\n",
    "# Ball Game\n",
    "class Game(arcade.Window):\n",
    "\n",
    "    ### Initialize the game window and any game components\n",
    "    def __init__(self):\n",
    "        super().__init__(500,500)\n",
    "        arcade.set_background_color(arcade.color.WHITE)\n",
    "        self.circles = []\n",
    "\n",
    "    ### Will be called by the arcade every frame and is used to draw objects\n",
    "    def on_draw(self):\n",
    "        # clear the screen to begin drawing\n",
    "        arcade.start_render()\n",
    "        for circle in self.circles:\n",
    "            circle.draw()\n",
    "            \n",
    "    ### Will be called by the arcade every frame and is used to update objects\n",
    "    def update(self, delta_time):\n",
    "        for circle in self.circles:\n",
    "            circle.advance()\n",
    "            # Remove circle if outside of window\n",
    "            if (circle.center.x > 500 or circle.center.x < 0 or \n",
    "                circle.center.y > 500 or circle.center.y < 0):\n",
    "                self.circles.remove(circle)\n",
    "        \n",
    "    \n",
    "    ### Will be called whenever a key is pressed\n",
    "    def on_key_press(self, key, key_modifiers):\n",
    "        if key == arcade.key.SPACE:\n",
    "            new_circle = Circle(250,250)  # Create circle in the middle of the game screen\n",
    "            self.circles.append(new_circle)\n",
    "\n",
    "# Run the game\n",
    "window = Game()\n",
    "arcade.run()"
   ]
  },
  {
   "cell_type": "markdown",
   "metadata": {},
   "source": [
    "# Stacks - Reverse Word"
   ]
  },
  {
   "cell_type": "code",
   "execution_count": null,
   "metadata": {},
   "outputs": [],
   "source": [
    "# Method # 1\n",
    "def reverse_word(word):\n",
    "    stack = []\n",
    "    for letter in word:\n",
    "      stack.append(letter)\n",
    "    stack.reverse()\n",
    "    new_word = \"\"\n",
    "    for letter in stack:\n",
    "      new_word += letter\n",
    "    return new_word    \n",
    "        \n",
    "reversed = reverse_word(\"abcdefg\")\n",
    "print(reversed)\n",
    "\n",
    "reversed = reverse_word(\"streesed\")\n",
    "print(reversed)\n",
    "\n",
    "reversed = reverse_word(\"a nut for a jar of tuna\")\n",
    "print(reversed)"
   ]
  },
  {
   "cell_type": "code",
   "execution_count": null,
   "metadata": {},
   "outputs": [],
   "source": [
    "# Method # 2\n",
    "def reverse_word(word):\n",
    "    stack = []\n",
    "    for letter in word:\n",
    "      stack.append(letter)\n",
    "    stack = stack[::-1]\n",
    "    new_word = \"\"\n",
    "    for letter in stack:\n",
    "      new_word += letter\n",
    "    return new_word    \n",
    "        \n",
    "reversed = reverse_word(\"abcdefg\")\n",
    "print(reversed)\n",
    "\n",
    "reversed = reverse_word(\"streesed\")\n",
    "print(reversed)\n",
    "\n",
    "reversed = reverse_word(\"a nut for a jar of tuna\")\n",
    "print(reversed)   "
   ]
  },
  {
   "cell_type": "code",
   "execution_count": null,
   "metadata": {},
   "outputs": [],
   "source": [
    "# Method # 3\n",
    "def reverse_word(word):\n",
    "    stack = []\n",
    "    new_word = \"\"\n",
    "    for letter in word:\n",
    "        stack.append(letter) # Push\n",
    "    \"\"\"\n",
    "    for letter in stack:\n",
    "        new_word += stack.pop()\n",
    "    \"\"\"\n",
    "    while len(stack) > 0:    # When you pop, the stack size will change\n",
    "                             # so you can't do a for loop\n",
    "        new_word += stack.pop()\n",
    "    return new_word    \n",
    "        \n",
    "reversed = reverse_word(\"abcdefg\")\n",
    "print(reversed)\n",
    "\n",
    "reversed = reverse_word(\"streesed\")\n",
    "print(reversed)\n",
    "\n",
    "reversed = reverse_word(\"a nut for a jar of tuna\")\n",
    "print(reversed)"
   ]
  },
  {
   "cell_type": "markdown",
   "metadata": {},
   "source": [
    "## Stacks - Post Fix Notation\n",
    "\n",
    "### Algorithim:\n",
    "1. Split equation into a list\n",
    "2. Go through each item in the list\n",
    "3. \n",
    "    a. if operator, then pop off two from stack and perform operation. \n",
    "    b. push the result onto the stack\n",
    "    c. otherwise, assume its a number and push it on the stack\n",
    "4. The result is the one item left on the stack"
   ]
  },
  {
   "cell_type": "code",
   "execution_count": null,
   "metadata": {},
   "outputs": [],
   "source": [
    "from collections import deque\n",
    "\n",
    "def solve_equation(equation):\n",
    "    terms = equation.split(\" \")\n",
    "    stack = deque()\n",
    "    for term in terms:\n",
    "        if term == \"+\":\n",
    "            stack.append(stack.pop() + stack.pop())\n",
    "        elif term == \"*\":\n",
    "            stack.append(stack.pop() * stack.pop())\n",
    "        else:\n",
    "            stack.append(float(term))\n",
    "    return (stack.pop())"
   ]
  },
  {
   "cell_type": "markdown",
   "metadata": {},
   "source": [
    "5 + 4 = 9"
   ]
  },
  {
   "cell_type": "code",
   "execution_count": null,
   "metadata": {},
   "outputs": [],
   "source": [
    "result = solve_equation(\"5 4 +\")\n",
    "print(result)"
   ]
  },
  {
   "cell_type": "markdown",
   "metadata": {},
   "source": [
    "3 x (10 + 5) = 45"
   ]
  },
  {
   "cell_type": "code",
   "execution_count": null,
   "metadata": {},
   "outputs": [],
   "source": [
    "result = solve_equation(\"3 10 5 + *\")\n",
    "print(result)"
   ]
  },
  {
   "cell_type": "markdown",
   "metadata": {},
   "source": [
    "8 + (4 x (3 + 2)) + 6 = 34"
   ]
  },
  {
   "cell_type": "code",
   "execution_count": null,
   "metadata": {},
   "outputs": [],
   "source": [
    "result = solve_equation(\"8 4 3 2 + * + 6 +\")\n",
    "print(result) "
   ]
  },
  {
   "cell_type": "markdown",
   "metadata": {},
   "source": [
    "((((9 + 3) x (4 x 2)) + 7) x 5) = 515"
   ]
  },
  {
   "cell_type": "code",
   "execution_count": null,
   "metadata": {},
   "outputs": [],
   "source": [
    "result = solve_equation(\"9 3 + 4 2 * * 7 + 5 *\")\n",
    "print(result)"
   ]
  }
 ],
 "metadata": {
  "kernelspec": {
   "display_name": "Python 3",
   "language": "python",
   "name": "python3"
  },
  "language_info": {
   "codemirror_mode": {
    "name": "ipython",
    "version": 3
   },
   "file_extension": ".py",
   "mimetype": "text/x-python",
   "name": "python",
   "nbconvert_exporter": "python",
   "pygments_lexer": "ipython3",
   "version": "3.7.3"
  }
 },
 "nbformat": 4,
 "nbformat_minor": 2
}
