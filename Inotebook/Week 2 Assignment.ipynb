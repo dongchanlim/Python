{
 "cells": [
  {
   "cell_type": "markdown",
   "metadata": {},
   "source": [
    "Write a Python 3 program to read from a .csv file containing rates from power companies. Your program should determine the average commercial rate, and also display the information for the highest and lowest rates found.\n",
    "\n",
    "It lists the commercial (comm_rate), industrial (ind_rate), and residential (res_rate) rates for each zip code."
   ]
  },
  {
   "cell_type": "markdown",
   "metadata": {},
   "source": [
    "To help you in your development efforts, two versions of the data set will be provided:\n",
    "\n",
    "> [rates_small.csv](http://localhost:8888/edit/rates_small.csv)\n",
    "\n",
    "> [rates.csv](http://localhost:8888/edit/rates.csv)\n",
    "\n",
    "ex) __csv__ represents comma seperated value."
   ]
  },
  {
   "cell_type": "markdown",
   "metadata": {},
   "source": [
    "Your program should do the following:\n",
    "\n",
    "- Prompt the user for a filename.\n",
    "\n",
    "- Open the requested file and read through it line by line.\n",
    "\n",
    "- Ignore the first line, as it contains header information.\n",
    "\n",
    "- Find the column for comm_rate and keep track of it as needed. (You may assume the file will have a consistent ordering of columns.)\n",
    "\n",
    "- After parsing through the complete file, display the average (mean) commercial rate across all zip codes.\n",
    "\n",
    "- Display the utility company, zip code, state, and rate for the zip code with the highest commercial rate in the file.\n",
    "\n",
    "- Display the utility company, zip code, state, and rate for the zip code with the lowest commercial rate in the file.\n",
    "\n",
    "- If there is a tie for the highest or lowest rate, you should display the zip code that came first in the file."
   ]
  },
  {
   "cell_type": "code",
   "execution_count": 6,
   "metadata": {},
   "outputs": [],
   "source": [
    "def prompt_file():\n",
    "    file = input(\"Please enter the data file: \")\n",
    "    return file"
   ]
  },
  {
   "cell_type": "code",
   "execution_count": 7,
   "metadata": {},
   "outputs": [
    {
     "name": "stdout",
     "output_type": "stream",
     "text": [
      "Please enter the data file: \n"
     ]
    },
    {
     "ename": "FileNotFoundError",
     "evalue": "[Errno 2] No such file or directory: ''",
     "output_type": "error",
     "traceback": [
      "\u001b[1;31m---------------------------------------------------------------------------\u001b[0m",
      "\u001b[1;31mFileNotFoundError\u001b[0m                         Traceback (most recent call last)",
      "\u001b[1;32m<ipython-input-7-1d3a3fead0f5>\u001b[0m in \u001b[0;36m<module>\u001b[1;34m\u001b[0m\n\u001b[0;32m      6\u001b[0m             \u001b[0mprint\u001b[0m\u001b[1;33m(\u001b[0m\u001b[0mline\u001b[0m\u001b[1;33m)\u001b[0m\u001b[1;33m\u001b[0m\u001b[1;33m\u001b[0m\u001b[0m\n\u001b[0;32m      7\u001b[0m \u001b[1;33m\u001b[0m\u001b[0m\n\u001b[1;32m----> 8\u001b[1;33m \u001b[0mprint_file\u001b[0m\u001b[1;33m(\u001b[0m\u001b[1;33m)\u001b[0m\u001b[1;33m\u001b[0m\u001b[1;33m\u001b[0m\u001b[0m\n\u001b[0m",
      "\u001b[1;32m<ipython-input-7-1d3a3fead0f5>\u001b[0m in \u001b[0;36mprint_file\u001b[1;34m()\u001b[0m\n\u001b[0;32m      1\u001b[0m \u001b[1;32mdef\u001b[0m \u001b[0mprint_file\u001b[0m\u001b[1;33m(\u001b[0m\u001b[1;33m)\u001b[0m\u001b[1;33m:\u001b[0m\u001b[1;33m\u001b[0m\u001b[1;33m\u001b[0m\u001b[0m\n\u001b[0;32m      2\u001b[0m     \u001b[0mf\u001b[0m \u001b[1;33m=\u001b[0m \u001b[0mprompt_file\u001b[0m\u001b[1;33m(\u001b[0m\u001b[1;33m)\u001b[0m\u001b[1;33m\u001b[0m\u001b[1;33m\u001b[0m\u001b[0m\n\u001b[1;32m----> 3\u001b[1;33m     \u001b[1;32mwith\u001b[0m \u001b[0mopen\u001b[0m\u001b[1;33m(\u001b[0m\u001b[0mf\u001b[0m\u001b[1;33m,\u001b[0m \u001b[1;34m\"r\"\u001b[0m\u001b[1;33m,\u001b[0m \u001b[0mencoding\u001b[0m \u001b[1;33m=\u001b[0m \u001b[1;34m\"UTF-8\"\u001b[0m\u001b[1;33m)\u001b[0m \u001b[1;32mas\u001b[0m \u001b[0mfile_in\u001b[0m\u001b[1;33m:\u001b[0m\u001b[1;33m\u001b[0m\u001b[1;33m\u001b[0m\u001b[0m\n\u001b[0m\u001b[0;32m      4\u001b[0m         \u001b[0mnext\u001b[0m\u001b[1;33m(\u001b[0m\u001b[0mfile_in\u001b[0m\u001b[1;33m)\u001b[0m\u001b[1;33m\u001b[0m\u001b[1;33m\u001b[0m\u001b[0m\n\u001b[0;32m      5\u001b[0m         \u001b[1;32mfor\u001b[0m \u001b[0mline\u001b[0m \u001b[1;32min\u001b[0m \u001b[0mfile_in\u001b[0m\u001b[1;33m:\u001b[0m\u001b[1;33m\u001b[0m\u001b[1;33m\u001b[0m\u001b[0m\n",
      "\u001b[1;31mFileNotFoundError\u001b[0m: [Errno 2] No such file or directory: ''"
     ]
    }
   ],
   "source": [
    "def print_file():\n",
    "    f = prompt_file()\n",
    "    with open(f, \"r\", encoding = \"UTF-8\") as file_in:\n",
    "        next(file_in)\n",
    "        for line in file_in:\n",
    "            print(line)\n",
    "\n",
    "print_file()"
   ]
  },
  {
   "cell_type": "code",
   "execution_count": 8,
   "metadata": {},
   "outputs": [],
   "source": [
    "def average_commrate(file):\n",
    "    with open(file, \"r\", encoding = \"UTF-8\") as file_in:\n",
    "        next(file_in)\n",
    "        count = 0\n",
    "        commrate_sum = 0\n",
    "        for line in file_in:\n",
    "            variables = line.strip().split(\",\")\n",
    "            commrate_sum += float(variables[6])\n",
    "            count += 1\n",
    "    return commrate_sum/count    "
   ]
  },
  {
   "cell_type": "markdown",
   "metadata": {},
   "source": [
    "Hint : Nested List will help "
   ]
  },
  {
   "cell_type": "code",
   "execution_count": 9,
   "metadata": {},
   "outputs": [],
   "source": [
    "def higest_commrate(file):\n",
    "    with open(file, \"r\", encoding = \"UTF-8\") as file_in:\n",
    "        next(file_in)\n",
    "        lines = []\n",
    "        for line in file_in:\n",
    "            variables = line.strip().split(\",\")  \n",
    "            lines.append(variables)\n",
    "        highest = lines[0]\n",
    "        for variables in lines:\n",
    "            if float(variables[6]) > float(highest[6]):\n",
    "                highest = variables\n",
    "        return highest"
   ]
  },
  {
   "cell_type": "code",
   "execution_count": 10,
   "metadata": {},
   "outputs": [],
   "source": [
    "def lowest_commrate(file):\n",
    "    with open(file, \"r\", encoding = \"UTF-8\") as file_in:\n",
    "        next(file_in)\n",
    "        lines = []\n",
    "        for line in file_in:\n",
    "            variables = line.strip().split(\",\")  \n",
    "            lines.append(variables)\n",
    "        lowest = lines[0]\n",
    "        for variables in lines:\n",
    "            if float(variables[6]) <= float(lowest[6]):\n",
    "                lowest = variables\n",
    "        return lowest"
   ]
  },
  {
   "cell_type": "code",
   "execution_count": 11,
   "metadata": {},
   "outputs": [],
   "source": [
    "def main():\n",
    "    file = prompt_file()\n",
    "    avg = average_commrate(file)\n",
    "    print(\"The average commercial rate is: {}\".format(avg))\n",
    "    print()\n",
    "    highest = higest_commrate(file)\n",
    "    print(\"The highest rate is:\\n{} ({}, {}) - $ {}\".format(highest[2], highest[0], highest[3], float(highest[6])))\n",
    "    lowest = lowest_commrate(file)\n",
    "    print(\"The lowest rate is:\\n{} ({}, {}) - $ {}\".format(lowest[2], lowest[0], lowest[3], float(lowest[6])))"
   ]
  },
  {
   "cell_type": "code",
   "execution_count": null,
   "metadata": {},
   "outputs": [],
   "source": [
    "if __name__ == \"__main__\":\n",
    "    main()"
   ]
  },
  {
   "cell_type": "code",
   "execution_count": null,
   "metadata": {},
   "outputs": [],
   "source": []
  }
 ],
 "metadata": {
  "kernelspec": {
   "display_name": "Python 3",
   "language": "python",
   "name": "python3"
  },
  "language_info": {
   "codemirror_mode": {
    "name": "ipython",
    "version": 3
   },
   "file_extension": ".py",
   "mimetype": "text/x-python",
   "name": "python",
   "nbconvert_exporter": "python",
   "pygments_lexer": "ipython3",
   "version": "3.7.3"
  }
 },
 "nbformat": 4,
 "nbformat_minor": 2
}
