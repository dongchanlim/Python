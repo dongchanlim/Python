{
 "cells": [
  {
   "cell_type": "markdown",
   "metadata": {},
   "source": [
    "# Inheritance\n",
    "\n",
    "Inheritance is when a class uses code constructed within another class. \n",
    "\n",
    "### __Base Class__ __VS__ __Derived Class__\n",
    "\n",
    "To create a derived class, we first need to define the base class first. Classes called __child classes__ or __subclasses__ inherit methods and variables from __parent classes__ or __base classes__. The Child class can reuse the code of Parent, allowing the programmer to use fewer lines of code and decrease redundancy.\n",
    "\n",
    "# Product\n",
    "\n",
    "## Product - Base Class"
   ]
  },
  {
   "cell_type": "code",
   "execution_count": 1,
   "metadata": {},
   "outputs": [],
   "source": [
    "class Product:\n",
    "    def __init__(self):\n",
    "        self.name = \"\"\n",
    "        self.cost = 0.0\n",
    "        \n",
    "    def prompt(self):\n",
    "        self.name = input(\"Name: \")\n",
    "        self.cost = float(input(\"Cost: \"))\n",
    "    \n",
    "    def display(self):\n",
    "        print(\"{} - ${:.2f}\" .format(self.name, self.cost))"
   ]
  },
  {
   "cell_type": "markdown",
   "metadata": {},
   "source": [
    "## Porishable Product - Derived Class"
   ]
  },
  {
   "cell_type": "code",
   "execution_count": null,
   "metadata": {},
   "outputs": [],
   "source": [
    "class PerishableProduct(Product):\n",
    "    def __init__(self):\n",
    "        super().__init__()\n",
    "        self.expire_date = \"\"\n",
    "        self.temp = \"\"\n",
    "        \n",
    "    def prompt(self): # In the case when base function and derived function has a same name we call base fuction with super().\n",
    "        super().prompt()\n",
    "        self.expire_date = input(\"Expires: \")\n",
    "        self.temp = input(\"Temp: \")\n",
    "        \n",
    "    def display(self): # In the case when base function and derived function has a same name we call base fuction with super().\n",
    "        super().display()\n",
    "        print(\"----------------\")\n",
    "        print(\"  Expires: {}\" .format(self.expire_date))\n",
    "        print(\"  Temp: {}\" .format(self.temp))"
   ]
  },
  {
   "cell_type": "markdown",
   "metadata": {},
   "source": [
    "## Digital Product - Derived Class"
   ]
  },
  {
   "cell_type": "code",
   "execution_count": 2,
   "metadata": {},
   "outputs": [],
   "source": [
    "class DigitalProduct(Product):\n",
    "    def __init__(self):\n",
    "        super().__init__()\n",
    "        self.url = \"\"\n",
    "        self.os = \"\"\n",
    "        self.size = 0\n",
    "        \n",
    "    def prompt(self): # In the case when base function and derived function has a same name we call base fuction with super().\n",
    "        super().prompt()\n",
    "        self.url = input(\"URL: \")\n",
    "        self.os = input(\"OS: \")\n",
    "        self.size = int(input(\"Size: \"))\n",
    "        \n",
    "    def display(self): # In the case when base function and derived function has a same name we call base fuction with super().\n",
    "        super().display()\n",
    "        print(\"----------------\")\n",
    "        print(\"  Download: {}\" .format(self.url))\n",
    "        print(\"  OS: {}\" .format(self.os))\n",
    "        print(\"  Size: {}\" .format(self.size))"
   ]
  },
  {
   "cell_type": "markdown",
   "metadata": {},
   "source": [
    "## Main - Practical Instance"
   ]
  },
  {
   "cell_type": "code",
   "execution_count": null,
   "metadata": {},
   "outputs": [],
   "source": [
    "def main():\n",
    "    p1 = Product()\n",
    "    p1.prompt()\n",
    "    print()\n",
    "    p1.display()\n",
    "    print()\n",
    "\n",
    "    p2 = DigitalProduct()\n",
    "    p2.prompt()\n",
    "    print()\n",
    "    p2.display()\n",
    "    print()\n",
    "\n",
    "    p3 = PerishableProduct()\n",
    "    p3.prompt()\n",
    "    print()\n",
    "    p3.display()\n",
    "    print()\n",
    " \n",
    "if __name__ == \"__main__\":\n",
    "    main()"
   ]
  },
  {
   "cell_type": "markdown",
   "metadata": {},
   "source": [
    "# Calculator"
   ]
  },
  {
   "cell_type": "code",
   "execution_count": null,
   "metadata": {},
   "outputs": [],
   "source": [
    "class Calculator:\n",
    "\n",
    "    def __init__(self):\n",
    "        self.result = 0.0\n",
    "\n",
    "    def add(self, value):\n",
    "        self.result += value\n",
    "\n",
    "    def subtract(self, value):\n",
    "        self.result -= value\n",
    "\n",
    "    def multiply(self, value):\n",
    "        self.result *= value\n",
    "\n",
    "    def divide(self, value):\n",
    "        self.result /= value\n",
    "\n",
    "    def clear(self):\n",
    "        self.result = 0.0\n",
    "\n",
    "    def display(self):\n",
    "        print(self.result)"
   ]
  },
  {
   "cell_type": "code",
   "execution_count": null,
   "metadata": {},
   "outputs": [],
   "source": [
    "class FancyCalculator(Calculator):\n",
    "    \n",
    "    # Make the distinct memory of calculation and calculate with it.\n",
    "\n",
    "    def __init__(self):\n",
    "        super().__init__()\n",
    "        self.memory = 0.0\n",
    "\n",
    "    def mem_store(self):\n",
    "        self.memory = self.result\n",
    "\n",
    "    def mem_add(self):\n",
    "        self.add(self.memory)\n",
    "\n",
    "    def mem_subtract(self):\n",
    "        self.subtract(self.memory)\n",
    "\n",
    "    def mem_clear(self):\n",
    "        self.memory = 0.0\n",
    "\n",
    "    def display(self):\n",
    "        super().display()\n",
    "        print(\"Memory = {}\" .format(self.memory))"
   ]
  },
  {
   "cell_type": "markdown",
   "metadata": {},
   "source": [
    "## Main  - Practical Instance"
   ]
  },
  {
   "cell_type": "code",
   "execution_count": null,
   "metadata": {},
   "outputs": [],
   "source": [
    "def main():\n",
    "    c1 = Calculator()\n",
    "    c1.add(5)\n",
    "    c1.multiply(2)\n",
    "    c1.subtract(3)\n",
    "    c1.divide(4)\n",
    "    c1.display()\n",
    "\n",
    "    print()\n",
    "\n",
    "    c2 = FancyCalculator()\n",
    "    c2.add(5)\n",
    "    c2.multiply(2)\n",
    "    c2.subtract(3)\n",
    "    c2.divide(4)\n",
    "    c2.display()\n",
    "    c2.mem_store()\n",
    "    c2.display()\n",
    "    c2.clear()\n",
    "    c2.display()\n",
    "    c2.add(7)\n",
    "    c2.multiply(3)\n",
    "    c2.display()\n",
    "    c2.mem_add()\n",
    "    c2.display()\n",
    "    c2.mem_clear()\n",
    "    c2.display()\n",
    "   \n",
    " \n",
    "if __name__ == \"__main__\":\n",
    "    main()"
   ]
  },
  {
   "cell_type": "markdown",
   "metadata": {},
   "source": [
    "# Queue"
   ]
  },
  {
   "cell_type": "code",
   "execution_count": null,
   "metadata": {},
   "outputs": [],
   "source": [
    "from collections import deque\n",
    "\n",
    "class GradeTask:\n",
    "\n",
    "    def __init__(self, course, project, student_id):\n",
    "        self.course = course\n",
    "        self.project = project\n",
    "        self.student_id = student_id\n",
    "\n",
    "    def display(self):\n",
    "        print(\"{} - {} for {}.\" \n",
    "            .format(self.course, self.project, self.student_id))\n",
    "\n",
    "    def grade(self):\n",
    "        self.display()\n",
    "        print(\"Follow Rubric to Grade\")"
   ]
  },
  {
   "cell_type": "code",
   "execution_count": null,
   "metadata": {},
   "outputs": [],
   "source": [
    "def main():\n",
    "    selection = None\n",
    "    grader = deque()\n",
    "    while (selection != \"3\"):\n",
    "        print()\n",
    "        print(\"Items in grading queue: {}\" .format(len(grader)))\n",
    "        print(\"Queue: {}\" .format(grader))\n",
    "        print(\"Options:\")\n",
    "        print(\"1. Add a new project to grade\")\n",
    "        print(\"2. Grade next project\")\n",
    "        print(\"3. Quit\")\n",
    "        selection = input(\"Enter selection: \")\n",
    "        print()\n",
    "        if selection == \"1\":\n",
    "            course = input(\"Course: \")\n",
    "            project = input(\"Project: \")\n",
    "            student_id = input(\"Student Id: \")\n",
    "            task = GradeTask(course, project, student_id)\n",
    "            grader.append(task)\n",
    "        elif selection == \"2\":\n",
    "            task = grader.popleft()\n",
    "            task.grade()\n",
    "    print(\"Goodbye\")\n",
    "\n",
    "if __name__ == \"__main__\":\n",
    "    main()"
   ]
  },
  {
   "attachments": {
    "deque.png": {
     "image/png": "[encoded data removed]"
    }
   },
   "cell_type": "markdown",
   "metadata": {},
   "source": [
    "## Deque - Append(), Popleft()\n",
    "\n",
    "![deque.png](attachment:deque.png)\n",
    "\n",
    "Example:"
   ]
  },
  {
   "cell_type": "code",
   "execution_count": null,
   "metadata": {},
   "outputs": [],
   "source": [
    "from collection import deque\n",
    "\n",
    "dq = deque()\n",
    "\n",
    "dq.append(\"A\")\n",
    "print(dq)\n",
    "print(len(dq))\n",
    "\n",
    "dq.popleft(\"A\")\n",
    "print(dq)\n",
    "print(len(dq))"
   ]
  },
  {
   "cell_type": "markdown",
   "metadata": {},
   "source": [
    "# Inheritance & Queues"
   ]
  },
  {
   "cell_type": "code",
   "execution_count": 2,
   "metadata": {},
   "outputs": [],
   "source": [
    "from collections import deque\n",
    "\n",
    "class GradeTask:\n",
    "\n",
    "    def __init__(self, course, project, student_id):\n",
    "        self.course = course\n",
    "        self.project = project\n",
    "        self.student_id = student_id\n",
    "\n",
    "    def display(self):\n",
    "        print(\"{} - {} for {}.\" \n",
    "            .format(self.course, self.project, self.student_id))\n",
    "\n",
    "    def grade(self):\n",
    "        self.display()\n",
    "        print(\"Follow Rubric to Grade\")"
   ]
  },
  {
   "cell_type": "code",
   "execution_count": 3,
   "metadata": {},
   "outputs": [],
   "source": [
    "class CS241_GradeTask(GradeTask):\n",
    "\n",
    "    def __init__(self, project, student_id):\n",
    "        super().__init__(\"CS241\", project, student_id)\n",
    "\n",
    "    def grade(self):\n",
    "        self.display()\n",
    "        print(\"Run in PyCharm\")"
   ]
  },
  {
   "cell_type": "code",
   "execution_count": 4,
   "metadata": {},
   "outputs": [],
   "source": [
    "class ENG101_GradeTask(GradeTask):\n",
    "\n",
    "    def __init__(self, project, student_id):\n",
    "        super().__init__(\"ENG101\", project, student_id)\n",
    "\n",
    "    def grade(self):\n",
    "        self.display()\n",
    "        print(\"Red red pen to mark up\")"
   ]
  },
  {
   "cell_type": "code",
   "execution_count": 5,
   "metadata": {},
   "outputs": [],
   "source": [
    "class CHEM101_GradeTask(GradeTask):\n",
    "\n",
    "    def __init__(self, project, student_id):\n",
    "        super().__init__(\"CHEM101\", project, student_id)\n",
    "\n",
    "    def grade(self):\n",
    "        self.display()\n",
    "        print(\"Mix their chemical equations and look for smoke.\")"
   ]
  },
  {
   "cell_type": "code",
   "execution_count": null,
   "metadata": {},
   "outputs": [
    {
     "name": "stdout",
     "output_type": "stream",
     "text": [
      "\n",
      "Items in grading queue: 0\n",
      "Queue: deque([])\n",
      "Options:\n",
      "1. Add a new CS241 project to grade\n",
      "2. Add a new ENG101 project to grade\n",
      "3. Add a new CHEM101 project to grade\n",
      "4. Grade next project\n",
      "5. Quit\n",
      "Enter selection: 1\n",
      "\n",
      "Project: skeet\n",
      "Student Id: 683636108\n",
      "\n",
      "Items in grading queue: 1\n",
      "Queue: deque([<__main__.CS241_GradeTask object at 0x000002088FAC4A58>])\n",
      "Options:\n",
      "1. Add a new CS241 project to grade\n",
      "2. Add a new ENG101 project to grade\n",
      "3. Add a new CHEM101 project to grade\n",
      "4. Grade next project\n",
      "5. Quit\n",
      "Enter selection: 4\n",
      "\n",
      "CS241 - skeet for 683636108.\n",
      "Run in PyCharm\n",
      "\n",
      "Items in grading queue: 0\n",
      "Queue: deque([])\n",
      "Options:\n",
      "1. Add a new CS241 project to grade\n",
      "2. Add a new ENG101 project to grade\n",
      "3. Add a new CHEM101 project to grade\n",
      "4. Grade next project\n",
      "5. Quit\n"
     ]
    }
   ],
   "source": [
    "def main():\n",
    "    selection = None\n",
    "    grader = deque()\n",
    "    while (selection != \"5\"):\n",
    "        print()\n",
    "        print(\"Items in grading queue: {}\" .format(len(grader)))\n",
    "        print(\"Queue: {}\" .format(grader))\n",
    "        print(\"Options:\")\n",
    "        print(\"1. Add a new CS241 project to grade\")\n",
    "        print(\"2. Add a new ENG101 project to grade\")\n",
    "        print(\"3. Add a new CHEM101 project to grade\")\n",
    "        print(\"4. Grade next project\")\n",
    "        print(\"5. Quit\")\n",
    "        selection = input(\"Enter selection: \")\n",
    "        print()\n",
    "        if selection == \"1\":\n",
    "            project = input(\"Project: \")\n",
    "            student_id = input(\"Student Id: \")\n",
    "            task = CS241_GradeTask(project, student_id)\n",
    "            grader.append(task)\n",
    "        if selection == \"2\":\n",
    "            project = input(\"Project: \")\n",
    "            student_id = input(\"Student Id: \")\n",
    "            task = ENG101_GradeTask(project, student_id)\n",
    "            grader.append(task)\n",
    "        if selection == \"3\":\n",
    "            project = input(\"Project: \")\n",
    "            student_id = input(\"Student Id: \")\n",
    "            task = CHEM101_GradeTask(project, student_id)\n",
    "            grader.append(task)\n",
    "        elif selection == \"4\":\n",
    "            task = grader.popleft()\n",
    "            task.grade()\n",
    "    print(\"Goodbye\")\n",
    "\n",
    "if __name__ == \"__main__\":\n",
    "    main()"
   ]
  },
  {
   "cell_type": "code",
   "execution_count": null,
   "metadata": {},
   "outputs": [],
   "source": []
  }
 ],
 "metadata": {
  "kernelspec": {
   "display_name": "Python 3",
   "language": "python",
   "name": "python3"
  },
  "language_info": {
   "codemirror_mode": {
    "name": "ipython",
    "version": 3
   },
   "file_extension": ".py",
   "mimetype": "text/x-python",
   "name": "python",
   "nbconvert_exporter": "python",
   "pygments_lexer": "ipython3",
   "version": "3.7.3"
  }
 },
 "nbformat": 4,
 "nbformat_minor": 2
}
