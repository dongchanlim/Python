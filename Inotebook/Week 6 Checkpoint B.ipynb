{
 "cells": [
  {
   "attachments": {
    "Smart%20Phone%20class.PNG": {
     "image/png": "[encoded data removed]"
    },
    "phone%20class.PNG": {
     "image/png": "[encoded data removed]"
    }
   },
   "cell_type": "markdown",
   "metadata": {},
   "source": [
    "# Instructions\n",
    "\n",
    "You are to write a program to track cell phones. You determine that there are two types of cell phones: `traditional phones` that have a phone number, and `smart phones` that have a phone number but also contain an email address.\n",
    "\n",
    "Write a class Phone that contains a phone number, and then a class `SmartPhone` that extends the `Phone` class to add an email address according to the following:\n",
    "\n",
    "* The `Phone` class should contain three integers for the different parts of a phone number. Here is its class diagram:\n",
    "\n",
    "![phone%20class.PNG](attachment:phone%20class.PNG)\n",
    "\n",
    "* The `prompt_number` method of the Phone class should ask the user to enter each element of a phone number.\n",
    "\n",
    "* The `display` method of the Phone class should display the number in the format \"(areaCode)prefix-suffix\".\n",
    "\n",
    "* The SmartPhone class should extend the `Phone` class and add the following:\n",
    "\n",
    "![Smart%20Phone%20class.PNG](attachment:Smart%20Phone%20class.PNG)\n",
    "\n",
    "* The `prompt` method of the SmartPhone class should call the `prompt_number` method defined in the base class and then additionally prompt for an email address.\n",
    "\n",
    "* The `display` method of the SmartPhone class should call the `display` method defined in the base class and then display the email address. \n",
    "\n",
    "* In main function, create a Phone object, call its prompt_number method, and then its display method.\n",
    "\n",
    "* In main function, create a SmartPhone object, call its prompt method, and then its display method.\n",
    "\n"
   ]
  },
  {
   "cell_type": "code",
   "execution_count": 1,
   "metadata": {},
   "outputs": [],
   "source": [
    "class Phone:\n",
    "    \n",
    "    def __init__(self):\n",
    "        self.area_code = 0\n",
    "        self.prefix = 0\n",
    "        self.suffix = 0\n",
    "    \n",
    "    def prompt_number(self):\n",
    "        self.area_code = int(input(\"Area Code: \"))\n",
    "        self.prefix = int(input(\"Prefix: \"))\n",
    "        self.suffix = int(input(\"Suffix: \"))\n",
    "        \n",
    "    def display(self):\n",
    "        print(\"Phone info:\")\n",
    "        print(\"({}){}-{}\".format(self.area_code, self.prefix, self.suffix))"
   ]
  },
  {
   "cell_type": "code",
   "execution_count": 2,
   "metadata": {},
   "outputs": [],
   "source": [
    "class SmartPhone(Phone):\n",
    "    \n",
    "    def __init__(self):\n",
    "        super().__init__()\n",
    "        self.email = \"\"\n",
    "        \n",
    "    def prompt(self):\n",
    "        self.prompt_number()\n",
    "        self.email = input(\"Email: \")\n",
    "        \n",
    "    def display(self):\n",
    "        super().display()\n",
    "        print(self.email)"
   ]
  },
  {
   "cell_type": "code",
   "execution_count": 3,
   "metadata": {},
   "outputs": [
    {
     "name": "stdout",
     "output_type": "stream",
     "text": [
      "\n",
      "Phone:\n",
      "Area Code: 208\n",
      "Prefix: 991\n",
      "Suffix: 6043\n",
      "\n",
      "Phone info:\n",
      "(208)991-6043\n",
      "\n",
      "Smart phone:\n",
      "Area Code: 208\n",
      "Prefix: 449\n",
      "Suffix: 4433\n",
      "Email: lim11002@byui.edu\n",
      "\n",
      "Phone info:\n",
      "(208)449-4433\n",
      "lim11002@byui.edu\n"
     ]
    }
   ],
   "source": [
    "def main():\n",
    "    \n",
    "    phone = Phone()\n",
    "    print()\n",
    "    print(\"Phone:\")\n",
    "    phone.prompt_number()\n",
    "    print()\n",
    "    phone.display()\n",
    "    print()\n",
    "    smartphone = SmartPhone()\n",
    "    print(\"Smart phone:\")\n",
    "    smartphone.prompt()\n",
    "    print()\n",
    "    smartphone.display()\n",
    "    \n",
    "if __name__ == \"__main__\":\n",
    "    main()"
   ]
  },
  {
   "cell_type": "code",
   "execution_count": null,
   "metadata": {},
   "outputs": [],
   "source": []
  }
 ],
 "metadata": {
  "kernelspec": {
   "display_name": "Python 3",
   "language": "python",
   "name": "python3"
  },
  "language_info": {
   "codemirror_mode": {
    "name": "ipython",
    "version": 3
   },
   "file_extension": ".py",
   "mimetype": "text/x-python",
   "name": "python",
   "nbconvert_exporter": "python",
   "pygments_lexer": "ipython3",
   "version": "3.7.3"
  }
 },
 "nbformat": 4,
 "nbformat_minor": 2
}
