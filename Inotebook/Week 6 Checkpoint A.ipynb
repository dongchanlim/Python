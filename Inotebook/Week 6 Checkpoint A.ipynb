{
 "cells": [
  {
   "cell_type": "markdown",
   "metadata": {},
   "source": [
    "# Instruction\n",
    "\n",
    "In looking at the collection of books next to your bed, you notice that they fall into a few different categories. First, you have your `regular books and novels`, second, your `textbooks`, and finally, your collection of `picture books`.\n",
    "\n",
    "You quickly recognize that they all have many things in common, but there are some slight differences in the properties of these different kinds of books.\n",
    "\n",
    "* Create a class for a `Book` that has the following member variables:\n",
    "\n",
    "> * title : string  \n",
    "> * author : string  \n",
    "> * publication_year : int  \n",
    "\n",
    "* Next, create a class for a `TextBook` that extends a Book and adds the following member variable:\n",
    "\n",
    "> * subject : string\n",
    "\n",
    "Finally, create a class for a `PictureBook` that that extends a Book and adds the following member variable:\n",
    "\n",
    "> * illustrator : string\n",
    "\n",
    "* In the base Book class, create a method `prompt_book_info` that prompts the user for the title, author, and publication_year, and also a method `display_book_info` that displays the title, author, and publication year in the format: \"Title (publication_year) by Author\".\n",
    "\n",
    "* In the TextBook class, create methods `prompt_subject` and `display_subject` that prompt and display the subject of the book.\n",
    "\n",
    "* In the PictureBook class, create methods `prompt_illustrator` and `display_illustrator` that prompt and display the Illustrator of the book.\n",
    "\n",
    "* In main, first create a Book object and call the following methods:\n",
    "\n",
    "> * prompt_book_info  \n",
    "> * display_book_info\n",
    "\n",
    "* Next, create a TextBook object and call the following methods:\n",
    "\n",
    "> * prompt_book_info  \n",
    "> * prompt_subject  \n",
    "> * display_book_info  \n",
    "> * display_subject\n",
    "\n",
    "* Finally, create a PictureBook object and call the following methods:\n",
    "\n",
    "> * prompt_book_info  \n",
    "> * prompt_illustrator  \n",
    "> * display_book_info  \n",
    "> * display_illustrator  "
   ]
  },
  {
   "cell_type": "code",
   "execution_count": 5,
   "metadata": {},
   "outputs": [],
   "source": [
    "class Book:\n",
    "    \n",
    "    def __init__(self):\n",
    "        self.title = \"\"\n",
    "        self.author = \"\"\n",
    "        self.publication_year = \"\"\n",
    "    \n",
    "    def prompt_book_info(self):\n",
    "        self.title = input(\"Title: \")\n",
    "        self.author = input(\"Author: \")\n",
    "        self.publication_year = input(\"Publication Year: \")\n",
    "        \n",
    "    def display_book_info(self):\n",
    "        print(\"{} ({}) by {}.\".format(self.title, self.publication_year, self.author))"
   ]
  },
  {
   "cell_type": "code",
   "execution_count": 6,
   "metadata": {},
   "outputs": [],
   "source": [
    "class TextBook(Book):\n",
    "    \n",
    "    def __init__(self):\n",
    "        super().__init__()\n",
    "        self.subject = \"\"\n",
    "    \n",
    "    def prompt_subject(self):\n",
    "        self.subject = input(\"Subject: \")\n",
    "        \n",
    "    def display_subject(self):\n",
    "        print(\"Subject: {}\".format(self.subject))"
   ]
  },
  {
   "cell_type": "code",
   "execution_count": 12,
   "metadata": {},
   "outputs": [],
   "source": [
    "class PictureBook(Book):\n",
    "    \n",
    "    def __init__(self):\n",
    "        super().__init__()\n",
    "        self.illustrator = \"\"\n",
    "    \n",
    "    def prompt_illustrator(self):\n",
    "        self.illustrator = input(\"Illustrator: \")\n",
    "        \n",
    "    def display_illustrator(self):\n",
    "        print(\"Illustrated by {}\".format(self.illustrator))"
   ]
  },
  {
   "cell_type": "code",
   "execution_count": 13,
   "metadata": {
    "scrolled": true
   },
   "outputs": [
    {
     "name": "stdout",
     "output_type": "stream",
     "text": [
      "Title: a\n",
      "Author: b\n",
      "Publication Year: c\n",
      "\n",
      "a (c) by b.\n",
      "\n",
      "Title: d\n",
      "Author: e\n",
      "Publication Year: f\n",
      "Subject: g\n",
      "\n",
      "d (f) by e.\n",
      "Subject: g\n",
      "\n",
      "Title: h\n",
      "Author: i\n",
      "Publication Year: k\n",
      "Illustrator: j\n",
      "\n",
      "h (k) by i.\n",
      "Illustrated by j\n"
     ]
    }
   ],
   "source": [
    "def main():\n",
    "    \n",
    "    book = Book()\n",
    "    book.prompt_book_info()\n",
    "    print()\n",
    "    book.display_book_info()\n",
    "    print()\n",
    "    textbook = TextBook()\n",
    "    textbook.prompt_book_info()\n",
    "    textbook.prompt_subject()\n",
    "    print()\n",
    "    textbook.display_book_info()\n",
    "    textbook.display_subject()\n",
    "    print()\n",
    "    picturebook = PictureBook()\n",
    "    picturebook.prompt_book_info()\n",
    "    picturebook.prompt_illustrator()\n",
    "    print()\n",
    "    picturebook.display_book_info()\n",
    "    picturebook.display_illustrator()\n",
    "    \n",
    "if __name__ == \"__main__\":\n",
    "    main()"
   ]
  },
  {
   "cell_type": "code",
   "execution_count": null,
   "metadata": {},
   "outputs": [],
   "source": []
  }
 ],
 "metadata": {
  "kernelspec": {
   "display_name": "Python 3",
   "language": "python",
   "name": "python3"
  },
  "language_info": {
   "codemirror_mode": {
    "name": "ipython",
    "version": 3
   },
   "file_extension": ".py",
   "mimetype": "text/x-python",
   "name": "python",
   "nbconvert_exporter": "python",
   "pygments_lexer": "ipython3",
   "version": "3.7.3"
  }
 },
 "nbformat": 4,
 "nbformat_minor": 2
}
