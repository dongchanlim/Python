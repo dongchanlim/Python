{
 "cells": [
  {
   "cell_type": "markdown",
   "metadata": {},
   "source": [
    "Write a Python 3 program that prompts the user for 3 postive numbers (or zero) and then adds them together. If the user enters a negative number, the program should reprompt them until they enter a postive number."
   ]
  },
  {
   "cell_type": "markdown",
   "metadata": {},
   "source": [
    "Divide your program into two functions:"
   ]
  },
  {
   "cell_type": "markdown",
   "metadata": {},
   "source": [
    "* Function 1: prompt_number - Prompts for a number, and keeps re-prompting as long as it is negative. Then, returns the number."
   ]
  },
  {
   "cell_type": "markdown",
   "metadata": {},
   "source": [
    "* Function 2: compute_sum - Accepts 3 numbers, adds them together and returns the sum."
   ]
  },
  {
   "cell_type": "markdown",
   "metadata": {},
   "source": [
    "* Function 3: main - Calls the prompt_number function 3 times, saves the return value into three different variables, then passes those 3 variables to the compute_sum function. Finally, saves the result of compute_sum into a variable and displays it."
   ]
  },
  {
   "cell_type": "markdown",
   "metadata": {},
   "source": [
    "# prompt_number Function"
   ]
  },
  {
   "cell_type": "code",
   "execution_count": 2,
   "metadata": {},
   "outputs": [],
   "source": [
    "def prompt_number():\n",
    "    negative = True\n",
    "    while negative:\n",
    "        number = int(input(\"Enter a positive number: \"))\n",
    "        if number <= 0:\n",
    "            print(\"Invalid entry. The number must be positive.\")\n",
    "        else:\n",
    "            negative = False\n",
    "        print()\n",
    "    return number"
   ]
  },
  {
   "cell_type": "code",
   "execution_count": null,
   "metadata": {},
   "outputs": [],
   "source": [
    "def prompt_number():\n",
    "    number = -1 # Need to set to an invalid value # so we can enter the while loop\n",
    "    while number < 0:\n",
    "        number_str = input(\"Enter a positive number: \")\n",
    "        number = int(number_str)\n",
    "        if number < 0:\n",
    "            print(\"Invalid entry. The number must be positive.\") \n",
    "    print()\n",
    "    return number"
   ]
  },
  {
   "cell_type": "markdown",
   "metadata": {},
   "source": [
    "# compute_sum Function"
   ]
  },
  {
   "cell_type": "code",
   "execution_count": 3,
   "metadata": {},
   "outputs": [],
   "source": [
    "def compute_sum(number1, number2, number3):\n",
    "    add_sum = number1 + number2 + number3\n",
    "    return add_sum"
   ]
  },
  {
   "cell_type": "markdown",
   "metadata": {},
   "source": [
    "# main Function"
   ]
  },
  {
   "cell_type": "code",
   "execution_count": 4,
   "metadata": {},
   "outputs": [
    {
     "name": "stdout",
     "output_type": "stream",
     "text": [
      "Enter a positive number: -3\n",
      "Invalid entry. The number must be positive.\n",
      "\n",
      "Enter a positive number: -2\n",
      "Invalid entry. The number must be positive.\n",
      "\n",
      "Enter a positive number: -1\n",
      "Invalid entry. The number must be positive.\n",
      "\n",
      "Enter a positive number: -6\n",
      "Invalid entry. The number must be positive.\n",
      "\n",
      "Enter a positive number: 10\n",
      "\n",
      "Enter a positive number: -3\n",
      "Invalid entry. The number must be positive.\n",
      "\n",
      "Enter a positive number: 10\n",
      "\n",
      "Enter a positive number: 10\n",
      "\n",
      "The sum is: 30\n"
     ]
    }
   ],
   "source": [
    "def main():\n",
    "    number1 = prompt_number()\n",
    "    number2 = prompt_number()\n",
    "    number3 = prompt_number()\n",
    "    NumberSum = compute_sum(number1, number2, number3)\n",
    "    print(\"The sum is:\",NumberSum)\n",
    "\n",
    "if __name__ == \"__main__\":\n",
    "    main()\n"
   ]
  },
  {
   "cell_type": "code",
   "execution_count": null,
   "metadata": {},
   "outputs": [],
   "source": []
  }
 ],
 "metadata": {
  "kernelspec": {
   "display_name": "Python 3",
   "language": "python",
   "name": "python3"
  },
  "language_info": {
   "codemirror_mode": {
    "name": "ipython",
    "version": 3
   },
   "file_extension": ".py",
   "mimetype": "text/x-python",
   "name": "python",
   "nbconvert_exporter": "python",
   "pygments_lexer": "ipython3",
   "version": "3.7.3"
  }
 },
 "nbformat": 4,
 "nbformat_minor": 2
}
