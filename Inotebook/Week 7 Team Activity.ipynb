{
 "cells": [
  {
   "cell_type": "markdown",
   "metadata": {},
   "source": [
    "# Instructions\n",
    "\n",
    "BYU-Idaho is having issues with its payroll system and has asked you to create a new one.  \n",
    "here are two types of employees: hourly employees (those that get paid a certain amount per hour) and salary employees (those that receive an annual salary).  \n",
    "you decide to create a common base class with each of these two types as a separate derived class.\n",
    "\n",
    "## Core Requirements\n",
    "\n",
    "1. Create a base class Employee, and two derived classes HourlyEmployee and SalaryEmployee.\n",
    "\n",
    "> * Employee should have a string name and a display function that displays the name.  \n",
    "> * HourlyEmployee should have an int hourly_wage and should override the display function to display the name and wage in the format: \"John - \\$8/hour\".  \n",
    "> * SalaryEmployee should have an int salary and should override the display function to display the name and salary in the format: \"John - \\$50000/year\".  \n",
    "> * You may also find it beneficial to add parameters to your \\__init__ function, but that is up to you.\n",
    "\n",
    "2. Create a main function that does the following\n",
    "\n",
    "> * Declares a list for employees.  \n",
    "> * Loops until the user enters \"q\" and prompts the user for an \"h\" (hourly employee) or an \"s\" (salary employee) or a \"q\" to quit.  \n",
    "> * Then prompts for the name and the hourlyRate/salary.  \n",
    "> * For each employee entered, creates a new employee of the correct type and adds it to the list.  \n",
    "\n",
    "3. After the user enters \"q\", have main loop through the list and call the display method for each employee. Run your program and ensure that it looks correct."
   ]
  },
  {
   "cell_type": "code",
   "execution_count": 10,
   "metadata": {},
   "outputs": [],
   "source": [
    "from abc import ABC\n",
    "from abc import abstractmethod\n",
    "\n",
    "class Employee(ABC):\n",
    "    \n",
    "    def __init__(self, name):\n",
    "        self.name = name\n",
    "          \n",
    "    def display(self):\n",
    "        print(self.name)\n",
    "    \n",
    "class HourlyEmployee(Employee):\n",
    "    \n",
    "    def __init__(self, name, hourly_wage):\n",
    "        super().__init__(name)\n",
    "        self.hourly_wage = hourly_wage\n",
    "        \n",
    "    def display(self):\n",
    "        print(\"{} - ${}/hour\".format(self.name, self.hourly_wage))\n",
    "        \n",
    "class SalaryEmployee(Employee):\n",
    "    \n",
    "    def __init__(self, name, salary):\n",
    "        super().__init__(name)\n",
    "        self.salary = salary\n",
    "        \n",
    "    def display(self):\n",
    "        print(\"{} - ${}/year\".format(self.name, self.salary))"
   ]
  },
  {
   "cell_type": "code",
   "execution_count": 11,
   "metadata": {},
   "outputs": [
    {
     "name": "stdout",
     "output_type": "stream",
     "text": [
      "Enter \"h\" (hourly employee)\n",
      "Enter \"s\" (salary employee)\n",
      "Enter \"q\" to quit.\n",
      "Enter the command: h\n",
      "What is your name?: richard\n",
      "How much is your hourly wage?: 8\n",
      "Enter \"h\" (hourly employee)\n",
      "Enter \"s\" (salary employee)\n",
      "Enter \"q\" to quit.\n",
      "Enter the command: s\n",
      "What is your name?: paul\n",
      "How much is your salary?: 30000\n",
      "Enter \"h\" (hourly employee)\n",
      "Enter \"s\" (salary employee)\n",
      "Enter \"q\" to quit.\n",
      "Enter the command: q\n",
      "richard - $8/hour\n",
      "paul - $30000/year\n"
     ]
    }
   ],
   "source": [
    "def main():\n",
    "    employees = []\n",
    "    command = \"\"\n",
    "    while command != \"q\":\n",
    "        print(\"Enter \\\"h\\\" (hourly employee)\")\n",
    "        print(\"Enter \\\"s\\\" (salary employee)\")\n",
    "        print(\"Enter \\\"q\\\" to quit.\")\n",
    "        command = input(\"Enter the command: \")\n",
    "        if command == \"h\":\n",
    "            name = input(\"What is your name?: \")\n",
    "            hourly_wage = int(input(\"How much is your hourly wage?: \"))\n",
    "            employee = HourlyEmployee(name, hourly_wage)\n",
    "            employees.append(employee)\n",
    "        if command == \"s\":\n",
    "            name = input(\"What is your name?: \")\n",
    "            salary = int(input(\"How much is your salary?: \"))\n",
    "            employee = SalaryEmployee(name, salary)\n",
    "            employees.append(employee)\n",
    "    for employee in employees:\n",
    "        employee.display()\n",
    "        \n",
    "if __name__ == \"__main__\":\n",
    "    main()"
   ]
  },
  {
   "cell_type": "markdown",
   "metadata": {},
   "source": [
    "## Stretch Challenges\n",
    "\n",
    "> 1. Convert your Employee class to an abstract base class and the display function to be an abstract method.\n",
    "\n",
    "> 2. Add to your HourlyEmployee a member variable for hours. Then, add an abstract method to the employee class for get_paycheck(), and override it in the derived classes. For hourly employees, this is calculated as the number of hours multiplied by the hourly rate. For salary employees, this should be the salary divided by 24.  \n",
    "> <br>Change your code that prompts for the hourly employee to also prompt for the number of hours.  \n",
    "> <br>In the loop in main that calls the display function, change it to also call the get_paycheck() function and display the pay check amount.\n",
    "\n",
    "> 3. Add a regular function (not a member function of any class), display_employee_data, that accepts an employee and calls its display function as well as its get_paycheck() function and displays the value. Then, remove this code from main, and replace it with a call to your new function."
   ]
  },
  {
   "cell_type": "code",
   "execution_count": 15,
   "metadata": {},
   "outputs": [],
   "source": [
    "from abc import ABC\n",
    "from abc import abstractmethod\n",
    "\n",
    "class Employee(ABC):\n",
    "    \n",
    "    def __init__(self, name):\n",
    "        self.name = name\n",
    "        \n",
    "    @abstractmethod    \n",
    "    def display(self):\n",
    "        pass\n",
    "    \n",
    "    @abstractmethod\n",
    "    def get_paycheck(self):\n",
    "        pass\n",
    "    \n",
    "class HourlyEmployee(Employee):\n",
    "    \n",
    "    def __init__(self, name, hourly_wage):\n",
    "        super().__init__(name)\n",
    "        self.hourly_wage = hourly_wage\n",
    "        self.hour = 0\n",
    "        \n",
    "    def display(self):\n",
    "        print(\"{} - ${}/hour\".format(self.name, self.hourly_wage))\n",
    "        \n",
    "    def get_paycheck(self):\n",
    "        self.hour = int(input(\"How many hours do you work?: \"))\n",
    "        return self.hour * self.hourly_wage\n",
    "        \n",
    "class SalaryEmployee(Employee):\n",
    "    \n",
    "    def __init__(self, name, salary):\n",
    "        super().__init__(name)\n",
    "        self.salary = salary\n",
    "        \n",
    "    def display(self):\n",
    "        print(\"{} - ${}/year\".format(self.name, self.salary))\n",
    "        \n",
    "    def get_paycheck(self):\n",
    "        return self.salary / 24"
   ]
  },
  {
   "cell_type": "code",
   "execution_count": 16,
   "metadata": {},
   "outputs": [],
   "source": [
    "def display_employee_data(employee):\n",
    "    employee.display()\n",
    "    print(\"The amount of paycheck: {}\".format(employee.get_paycheck()))"
   ]
  },
  {
   "cell_type": "code",
   "execution_count": 17,
   "metadata": {},
   "outputs": [
    {
     "name": "stdout",
     "output_type": "stream",
     "text": [
      "Enter \"h\" (hourly employee)\n",
      "Enter \"s\" (salary employee)\n",
      "Enter \"q\" to quit.\n",
      "Enter the command: h\n",
      "What is your name?: richard\n",
      "How much is your hourly wage?: 8\n",
      "Enter \"h\" (hourly employee)\n",
      "Enter \"s\" (salary employee)\n",
      "Enter \"q\" to quit.\n",
      "Enter the command: q\n",
      "richard - $8/hour\n",
      "How many hours do you work?: 7\n",
      "The amount of paycheck: 56\n"
     ]
    }
   ],
   "source": [
    "def main():\n",
    "    employees = []\n",
    "    command = \"\"\n",
    "    while command != \"q\":\n",
    "        print(\"Enter \\\"h\\\" (hourly employee)\")\n",
    "        print(\"Enter \\\"s\\\" (salary employee)\")\n",
    "        print(\"Enter \\\"q\\\" to quit.\")\n",
    "        command = input(\"Enter the command: \")\n",
    "        if command == \"h\":\n",
    "            name = input(\"What is your name?: \")\n",
    "            hourly_wage = int(input(\"How much is your hourly wage?: \"))\n",
    "            employee = HourlyEmployee(name, hourly_wage)\n",
    "            employees.append(employee)\n",
    "        if command == \"s\":\n",
    "            name = input(\"What is your name?: \")\n",
    "            salary = int(input(\"How much is your salary?: \"))\n",
    "            employee = SalaryEmployee(name, salary)\n",
    "            employees.append(employee)\n",
    "    for employee in employees:\n",
    "        display_employee_data(employee)\n",
    "        \n",
    "if __name__ == \"__main__\":\n",
    "    main()"
   ]
  },
  {
   "cell_type": "code",
   "execution_count": null,
   "metadata": {},
   "outputs": [],
   "source": []
  }
 ],
 "metadata": {
  "kernelspec": {
   "display_name": "Python 3",
   "language": "python",
   "name": "python3"
  },
  "language_info": {
   "codemirror_mode": {
    "name": "ipython",
    "version": 3
   },
   "file_extension": ".py",
   "mimetype": "text/x-python",
   "name": "python",
   "nbconvert_exporter": "python",
   "pygments_lexer": "ipython3",
   "version": "3.7.3"
  }
 },
 "nbformat": 4,
 "nbformat_minor": 2
}
