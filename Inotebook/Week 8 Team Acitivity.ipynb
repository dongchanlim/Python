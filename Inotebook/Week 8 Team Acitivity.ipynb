{
 "cells": [
  {
   "cell_type": "markdown",
   "metadata": {},
   "source": [
    "## Objective\n",
    "using `getters` and `setters` by creating a class to model a time of day\n",
    "## Instructions\n",
    "### Core Requirements\n",
    "> 1. Create a Time class that stores three ints for `hours`, `minutes`, and `seconds`. Prefix each variable with an underscore to indicate to others that these are private variables. Then, create getters and setters for each variable (e.g., __get_hours(), set_hours(value), get_minutes()__, ...).   \n",
    "Assume that these values will store the data in military time (hours from 0-23). Put logic in the setters so that if the value if new value is higher than acceptable __(hours > 23, minutes or seconds > 59)__ that it should set them to the maximum amount. Similarly, attempt to __set values lower than 0, should set them to 0__.\n",
    "\n",
    "> 2. Write a main function that creates a new time object. Have it prompt the user for hours, minutes, and seconds, use your setters to set each of these values, then use your getters to display each one. Please note that the input should be obtained in main and passed to a setter. Neither the getter or setter should prompt the user for anything.   \n",
    "Test your getters and setters by entering values that are valid and also some that are invalid.\n",
    "\n",
    "> 3. Create a property for each component named hours, minutes, and seconds. Connect them to the getters and setters you have made using the __hours = property(get_hours, set_hours)__ syntax.  \n",
    "Change your main function so that it no longer calls any of the getters or setters directly, but instead uses the property. Then test it with several different values.\n",
    "\n"
   ]
  },
  {
   "cell_type": "code",
   "execution_count": 4,
   "metadata": {},
   "outputs": [],
   "source": [
    "class Time:\n",
    "    \n",
    "    def __init__(self):\n",
    "        self.hours = 0\n",
    "        self.minutes = 0\n",
    "        self.seconds = 0\n",
    "    \n",
    "    def get_hours(self):\n",
    "        return self.hours\n",
    "    \n",
    "    def set_hours(self, hour):\n",
    "        if hour > 23:\n",
    "            self.hours = 23\n",
    "        elif hour < 0:\n",
    "            self.hours = 0\n",
    "        else:\n",
    "            self.hours = hour\n",
    "            \n",
    "    def get_minutes(self):\n",
    "        return self.minutes\n",
    "    \n",
    "    def set_minutes(self, minute):\n",
    "        if minute > 59:\n",
    "            self.minutes = 59\n",
    "        elif minute < 0:\n",
    "            self.minutes = 0\n",
    "        else:\n",
    "            self.minutes = minute\n",
    "            \n",
    "    def get_seconds(self):\n",
    "        return self.seconds\n",
    "    \n",
    "    def set_seconds(self, second):\n",
    "        if second > 59:\n",
    "            self.seconds = 59\n",
    "        elif second < 0:\n",
    "            self.seconds = 0\n",
    "        else:\n",
    "            self.seconds = second"
   ]
  },
  {
   "cell_type": "code",
   "execution_count": 5,
   "metadata": {},
   "outputs": [
    {
     "name": "stdout",
     "output_type": "stream",
     "text": [
      "Hour: 23\n",
      "Minute: 22\n",
      "Second: 11\n",
      "23:22:11\n"
     ]
    }
   ],
   "source": [
    "def main():\n",
    "    \n",
    "    time = Time()\n",
    "    time.hours = int(input(\"Hour: \"))\n",
    "    time.minutes = int(input(\"Minute: \"))\n",
    "    time.seconds = int(input(\"Second: \"))\n",
    "    time.set_hours(time.hours)\n",
    "    time.set_minutes(time.minutes)\n",
    "    time.set_seconds(time.seconds)\n",
    "    print(\"{:02d}:{:02d}:{:02d}\".format(time.get_hours(),time.get_minutes(),time.get_seconds()))\n",
    "    \n",
    "if __name__ == \"__main__\":\n",
    "    main()"
   ]
  },
  {
   "cell_type": "code",
   "execution_count": 6,
   "metadata": {},
   "outputs": [],
   "source": [
    "class Time:\n",
    "    \n",
    "    def __init__(self):\n",
    "        self._hours = 0\n",
    "        self._minutes = 0\n",
    "        self._seconds = 0\n",
    "    \n",
    "    def get_hours(self):\n",
    "        return self._hours\n",
    "    \n",
    "    def set_hours(self, hour):\n",
    "        if hour > 23:\n",
    "            self._hours = 23\n",
    "        elif hour < 0:\n",
    "            self._hours = 0\n",
    "        else:\n",
    "            self._hours = hour\n",
    "            \n",
    "    hours = property(get_hours, set_hours)\n",
    "            \n",
    "    def get_minutes(self):\n",
    "        return self._minutes\n",
    "    \n",
    "    def set_minutes(self, minute):\n",
    "        if minute > 59:\n",
    "            self._minutes = 59\n",
    "        elif minute < 0:\n",
    "            self._minutes = 0\n",
    "        else:\n",
    "            self._minutes = minute\n",
    "            \n",
    "    minutes = property(get_minutes, set_minutes)\n",
    "            \n",
    "    def get_seconds(self):\n",
    "        return self._seconds\n",
    "    \n",
    "    def set_seconds(self, second):\n",
    "        if second > 59:\n",
    "            self._seconds = 59\n",
    "        elif second < 0:\n",
    "            self._seconds = 0\n",
    "        else:\n",
    "            self._seconds = second\n",
    "            \n",
    "    seconds = property(get_seconds, set_seconds)"
   ]
  },
  {
   "cell_type": "code",
   "execution_count": 7,
   "metadata": {},
   "outputs": [
    {
     "name": "stdout",
     "output_type": "stream",
     "text": [
      "Hour: 33\n",
      "Minute: 11\n",
      "Second: 22\n",
      "23:11:22\n"
     ]
    }
   ],
   "source": [
    "def main():\n",
    "    \n",
    "    time = Time()\n",
    "    time.hours = int(input(\"Hour: \"))\n",
    "    time.minutes = int(input(\"Minute: \"))\n",
    "    time.seconds = int(input(\"Second: \"))\n",
    "    print(\"{:02d}:{:02d}:{:02d}\".format(time.hours,time.minutes,time.seconds))\n",
    "    \n",
    "if __name__ == \"__main__\":\n",
    "    main()"
   ]
  },
  {
   "cell_type": "markdown",
   "metadata": {},
   "source": [
    "### Stretch Challenges\n",
    "> 1. Create a new getter property called `hours_simple` that returns the hours in a simple, non military time, format of 1-12. Also create a new getter property called `period` that returns either __\"AM\"__ or __\"PM\"__ depending on the value of the hours.  \n",
    "Create each of these getters using the __@property__ decorator syntax. Then update main to additionally display these values.\n",
    "\n",
    "> 2. Change your time's internal representation to no longer use three separate integers for the hours, minutes, and seconds, but rather store only __the number of seconds since midnight__. You can use the __mod operator (%)__ to help you determine the number of minutes and hours. Notice that the external use of your class (i.e., main) should not change.  \n",
    "First, get the getters to work with this new implementation.\n",
    "\n",
    "> 3. Finally, get the setters to work with the new implementation."
   ]
  },
  {
   "cell_type": "code",
   "execution_count": 25,
   "metadata": {},
   "outputs": [],
   "source": [
    "class Time:\n",
    "    \n",
    "    def __init__(self):\n",
    "        self._hours = 0\n",
    "        self._minutes = 0\n",
    "        self._seconds = 0\n",
    "        self._numseconds = 0\n",
    "    \n",
    "    def get_hours(self):\n",
    "        return self._hours\n",
    "    \n",
    "    def set_hours(self, hour):\n",
    "        if hour > 23:\n",
    "            self._hours = 23\n",
    "        elif hour < 0:\n",
    "            self._hours = 0\n",
    "        else:\n",
    "            self._hours = hour\n",
    "            \n",
    "    hours = property(get_hours, set_hours)\n",
    "    \n",
    "    @property\n",
    "    def hours_simple(self):\n",
    "        return self._hours % 12\n",
    "    \n",
    "    @property\n",
    "    def period(self):\n",
    "        if self._hours > 12:\n",
    "            return \"PM\"\n",
    "        else:\n",
    "            return \"AM\"\n",
    "    \n",
    "    @property\n",
    "    def numseconds(self):\n",
    "        return self._hours * 3600 + self._minutes * 60 + self._seconds\n",
    "            \n",
    "    def get_minutes(self):\n",
    "        return self._minutes\n",
    "    \n",
    "    def set_minutes(self, minute):\n",
    "        if minute > 59:\n",
    "            self._minutes = 59\n",
    "        elif minute < 0:\n",
    "            self._minutes = 0\n",
    "        else:\n",
    "            self._minutes = minute\n",
    "            \n",
    "    minutes = property(get_minutes, set_minutes)\n",
    "            \n",
    "    def get_seconds(self):\n",
    "        return self._seconds\n",
    "    \n",
    "    def set_seconds(self, second):\n",
    "        if second > 59:\n",
    "            self._seconds = 59\n",
    "        elif second < 0:\n",
    "            self._seconds = 0\n",
    "        else:\n",
    "            self._seconds = second\n",
    "            \n",
    "    seconds = property(get_seconds, set_seconds)"
   ]
  },
  {
   "cell_type": "code",
   "execution_count": 26,
   "metadata": {},
   "outputs": [
    {
     "name": "stdout",
     "output_type": "stream",
     "text": [
      "Hour: 33\n",
      "Minute: 22\n",
      "Second: 11\n",
      "23:22:11\n",
      "11:22:11PM\n",
      "84131 seconds\n"
     ]
    }
   ],
   "source": [
    "def main():\n",
    "    \n",
    "    time = Time()\n",
    "    time.hours = int(input(\"Hour: \"))\n",
    "    time.minutes = int(input(\"Minute: \"))\n",
    "    time.seconds = int(input(\"Second: \"))\n",
    "    print(\"{:02d}:{:02d}:{:02d}\".format(time.hours,time.minutes,time.seconds))\n",
    "    print(\"{:02d}:{:02d}:{:02d}{}\".format(time.hours_simple,time.minutes,time.seconds, time.period))\n",
    "    print(time.numseconds,\"seconds\")\n",
    "    \n",
    "if __name__ == \"__main__\":\n",
    "    main()"
   ]
  },
  {
   "cell_type": "code",
   "execution_count": null,
   "metadata": {},
   "outputs": [],
   "source": []
  }
 ],
 "metadata": {
  "kernelspec": {
   "display_name": "Python 3",
   "language": "python",
   "name": "python3"
  },
  "language_info": {
   "codemirror_mode": {
    "name": "ipython",
    "version": 3
   },
   "file_extension": ".py",
   "mimetype": "text/x-python",
   "name": "python",
   "nbconvert_exporter": "python",
   "pygments_lexer": "ipython3",
   "version": "3.7.3"
  }
 },
 "nbformat": 4,
 "nbformat_minor": 2
}
