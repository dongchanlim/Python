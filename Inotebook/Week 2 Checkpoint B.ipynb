{
 "cells": [
  {
   "cell_type": "markdown",
   "metadata": {},
   "source": [
    "Write a Python 3 program that reads an input file and counts the number of words and the number of lines in that file. To test your code, download these 3 test files. You should put them in the same folder that has your code for this checkpoint:"
   ]
  },
  {
   "cell_type": "markdown",
   "metadata": {},
   "source": [
    "You may assume that all words are separated by a space character (i.e., \" \")."
   ]
  },
  {
   "cell_type": "code",
   "execution_count": 24,
   "metadata": {},
   "outputs": [],
   "source": [
    "def line_word_number():\n",
    "    file = input(\"Enter file: \")\n",
    "    with open(file, \"r\", encoding='UTF8') as file_in:\n",
    "        lines = 0\n",
    "        words = 0\n",
    "        for line in file_in:\n",
    "            lines += 1\n",
    "            word = line.strip().split(\" \")\n",
    "            words += len(word)\n",
    "    return (lines, words)"
   ]
  },
  {
   "cell_type": "code",
   "execution_count": 25,
   "metadata": {},
   "outputs": [],
   "source": [
    "def print_number(lines, words):\n",
    "    print(\"The file contains {} lines and {} words.\".format(lines,words))"
   ]
  },
  {
   "cell_type": "code",
   "execution_count": 26,
   "metadata": {},
   "outputs": [],
   "source": [
    "def main():\n",
    "    file1 = line_word_number()\n",
    "    print_number(file1[0],file1[1])   \n",
    "    file2 = line_word_number()\n",
    "    print_number(file2[0],file2[1])\n",
    "    file3 = line_word_number()\n",
    "    print_number(file3[0],file3[1])"
   ]
  },
  {
   "cell_type": "code",
   "execution_count": 27,
   "metadata": {},
   "outputs": [],
   "source": [
    "def main():\n",
    "    for i in range(3):\n",
    "        file = line_word_number()\n",
    "        print_number(file[0],file[1])"
   ]
  },
  {
   "cell_type": "code",
   "execution_count": 28,
   "metadata": {},
   "outputs": [
    {
     "name": "stdout",
     "output_type": "stream",
     "text": [
      "Enter file: file1.txt\n",
      "The file contains 3 lines and 10 words.\n",
      "Enter file: file2.txt\n",
      "The file contains 5 lines and 42 words.\n",
      "Enter file: file3.txt\n",
      "The file contains 68 lines and 2527 words.\n"
     ]
    }
   ],
   "source": [
    "if __name__ == \"__main__\":\n",
    "    main()"
   ]
  },
  {
   "cell_type": "code",
   "execution_count": 33,
   "metadata": {},
   "outputs": [],
   "source": [
    "### Get file name from the user \n",
    "def get_filename():\n",
    "    filename = input(\"Enter file: \")\n",
    "    return filename"
   ]
  },
  {
   "cell_type": "code",
   "execution_count": 35,
   "metadata": {},
   "outputs": [],
   "source": [
    "### Open the file and analyze words and lines\n",
    "### Returns a tuple (word count, line count)\n",
    "def read_file(filename):\n",
    "    line_count= 0 \n",
    "    word_count= 0\n",
    "    with open(filename,\"r\") as file_in: \n",
    "    # Open file for reading \n",
    "        for line in file_in: \n",
    "        # Loop through each line of the file1\n",
    "            line_count += 1 \n",
    "            words = line.split() \n",
    "            # Create a list of words from the line (default is spaces)\n",
    "            word_count += len(words) \n",
    "            # Count the number of words in the list \n",
    "    return (word_count,line_count)"
   ]
  },
  {
   "cell_type": "code",
   "execution_count": 36,
   "metadata": {},
   "outputs": [],
   "source": [
    "def main():\n",
    "    filename = get_filename()\n",
    "    (word_count,line_count) = read_file(filename)\n",
    "    # Seperate the two values out of the tuple\n",
    "    print(\"The file contains {} lines and {} words.\".format(line_count,word_count))"
   ]
  },
  {
   "cell_type": "code",
   "execution_count": null,
   "metadata": {},
   "outputs": [],
   "source": [
    "if__name__==\"__main__\":\n",
    "    main()"
   ]
  }
 ],
 "metadata": {
  "kernelspec": {
   "display_name": "Python 3",
   "language": "python",
   "name": "python3"
  },
  "language_info": {
   "codemirror_mode": {
    "name": "ipython",
    "version": 3
   },
   "file_extension": ".py",
   "mimetype": "text/x-python",
   "name": "python",
   "nbconvert_exporter": "python",
   "pygments_lexer": "ipython3",
   "version": "3.7.3"
  }
 },
 "nbformat": 4,
 "nbformat_minor": 2
}
