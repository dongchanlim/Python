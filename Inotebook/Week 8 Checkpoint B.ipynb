{
 "cells": [
  {
   "cell_type": "markdown",
   "metadata": {},
   "source": [
    "# Instructions\n",
    "\n",
    "make a copy of your [Week 8 Checkpoint A](http://localhost:8888/notebooks/Week%208%20Checkpoint%20A.ipynb) and then make the following changes:\n",
    "\n",
    "> 1. Change the variable that you stored the GPA value in to begin with an underscore. So, if you previously used self.value it should now be `self._value`. This signifies to others that they should not directly manipulate this variable.  \n",
    "> 2. Change your getters and setters to begin with underscores, for example, `get_gpa()` should now be `_get_gpa()`. Repeat this for `set_gpa`, `get_letter`, and `set_letter`.  \n",
    "> 3. Add a property named gpa for the `_get_gpa()` and `_set_gpa(value)` functions using the syntax: `property(_get_gpa, _set_gpa)` in your class.  \n",
    "> 4. Add a property named letter that calls the `_get_letter()` and `_set_letter(value)` functions. This time, specify the property using the `@property` syntax for the getter and __\\@letter.setter__ syntax for the setter. (Please note that when you use the @property syntax, you need to change the name of your getter and setter functions to be \"letter\".)  \n",
    "> 5. Change your main function to use these properties instead of calling your functions. In other words, all calls to `student.get_gpa()` should be replaced with `student.gpa`. All calls to `student.set_gpa(xx)` should be replaced with `student.gpa = xx` and then the same thing for calls to the letter getter and setter."
   ]
  },
  {
   "cell_type": "code",
   "execution_count": 3,
   "metadata": {},
   "outputs": [],
   "source": [
    "class GPA:\n",
    "    \n",
    "    def __init__(self):\n",
    "        self._gpa = 0.0\n",
    "        \n",
    "    def _get_gpa(self):\n",
    "        return self._gpa\n",
    "    \n",
    "    def _set_gpa(self, gpa):\n",
    "        if gpa < 0:\n",
    "            self._gpa = 0.0\n",
    "        elif gpa > 4:\n",
    "            self._gpa = 4.0\n",
    "        else:\n",
    "            self._gpa = gpa\n",
    "            \n",
    "    gpa = property(_get_gpa, _set_gpa)\n",
    "    \n",
    "    @property\n",
    "    def letter(self):\n",
    "        if self._gpa < 1:\n",
    "            return \"F\"\n",
    "        elif self._gpa < 2:\n",
    "            return \"D\"\n",
    "        elif self._gpa < 3:\n",
    "            return \"C\"\n",
    "        elif self._gpa < 4:\n",
    "            return \"B\"\n",
    "        else:\n",
    "            return \"A\"\n",
    "        \n",
    "    @letter.setter\n",
    "    def set_letter(self, letter):\n",
    "        if letter == \"F\":\n",
    "            self._gpa = 0\n",
    "        elif letter == \"D\":\n",
    "            self._gpa = 1\n",
    "        elif letter == \"C\":\n",
    "            self._gpa = 2\n",
    "        elif letter == \"B\":\n",
    "            self._gpa = 3\n",
    "        elif letter == \"A\":\n",
    "            self._gpa = 4        "
   ]
  },
  {
   "cell_type": "markdown",
   "metadata": {},
   "source": [
    "## Main Function"
   ]
  },
  {
   "cell_type": "code",
   "execution_count": 8,
   "metadata": {},
   "outputs": [
    {
     "name": "stdout",
     "output_type": "stream",
     "text": [
      "Initial values:\n",
      "GPA: 0.00\n",
      "Letter: F\n",
      "Enter a new GPA: 3.6\n",
      "After setting value:\n",
      "GPA: 3.60\n",
      "Letter: B\n",
      "Enter a new letter: a\n"
     ]
    },
    {
     "ename": "AttributeError",
     "evalue": "can't set attribute",
     "output_type": "error",
     "traceback": [
      "\u001b[1;31m---------------------------------------------------------------------------\u001b[0m",
      "\u001b[1;31mAttributeError\u001b[0m                            Traceback (most recent call last)",
      "\u001b[1;32m<ipython-input-8-a28f55200f8a>\u001b[0m in \u001b[0;36m<module>\u001b[1;34m\u001b[0m\n\u001b[0;32m     19\u001b[0m \u001b[1;33m\u001b[0m\u001b[0m\n\u001b[0;32m     20\u001b[0m \u001b[1;32mif\u001b[0m \u001b[0m__name__\u001b[0m \u001b[1;33m==\u001b[0m \u001b[1;34m\"__main__\"\u001b[0m\u001b[1;33m:\u001b[0m\u001b[1;33m\u001b[0m\u001b[1;33m\u001b[0m\u001b[0m\n\u001b[1;32m---> 21\u001b[1;33m     \u001b[0mmain\u001b[0m\u001b[1;33m(\u001b[0m\u001b[1;33m)\u001b[0m\u001b[1;33m\u001b[0m\u001b[1;33m\u001b[0m\u001b[0m\n\u001b[0m",
      "\u001b[1;32m<ipython-input-8-a28f55200f8a>\u001b[0m in \u001b[0;36mmain\u001b[1;34m()\u001b[0m\n\u001b[0;32m     12\u001b[0m     \u001b[0mprint\u001b[0m\u001b[1;33m(\u001b[0m\u001b[1;34m\"Letter: {}\"\u001b[0m\u001b[1;33m.\u001b[0m\u001b[0mformat\u001b[0m\u001b[1;33m(\u001b[0m\u001b[0mstudent\u001b[0m\u001b[1;33m.\u001b[0m\u001b[0mletter\u001b[0m\u001b[1;33m)\u001b[0m\u001b[1;33m)\u001b[0m\u001b[1;33m\u001b[0m\u001b[1;33m\u001b[0m\u001b[0m\n\u001b[0;32m     13\u001b[0m \u001b[1;33m\u001b[0m\u001b[0m\n\u001b[1;32m---> 14\u001b[1;33m     \u001b[0mstudent\u001b[0m\u001b[1;33m.\u001b[0m\u001b[0mletter\u001b[0m \u001b[1;33m=\u001b[0m \u001b[0minput\u001b[0m\u001b[1;33m(\u001b[0m\u001b[1;34m\"Enter a new letter: \"\u001b[0m\u001b[1;33m)\u001b[0m\u001b[1;33m\u001b[0m\u001b[1;33m\u001b[0m\u001b[0m\n\u001b[0m\u001b[0;32m     15\u001b[0m \u001b[1;33m\u001b[0m\u001b[0m\n\u001b[0;32m     16\u001b[0m     \u001b[0mprint\u001b[0m\u001b[1;33m(\u001b[0m\u001b[1;34m\"After setting letter:\"\u001b[0m\u001b[1;33m)\u001b[0m\u001b[1;33m\u001b[0m\u001b[1;33m\u001b[0m\u001b[0m\n",
      "\u001b[1;31mAttributeError\u001b[0m: can't set attribute"
     ]
    }
   ],
   "source": [
    "def main():\n",
    "    student = GPA()\n",
    "\n",
    "    print(\"Initial values:\")\n",
    "    print(\"GPA: {:.2f}\".format(student.gpa))\n",
    "    print(\"Letter: {}\".format(student.letter))\n",
    "\n",
    "    student.gpa = float(input(\"Enter a new GPA: \"))\n",
    "\n",
    "    print(\"After setting value:\")\n",
    "    print(\"GPA: {:.2f}\".format(student.gpa))\n",
    "    print(\"Letter: {}\".format(student.letter))\n",
    "\n",
    "    student.letter = input(\"Enter a new letter: \")\n",
    "\n",
    "    print(\"After setting letter:\")\n",
    "    print(\"GPA: {:.2f}\".format(student.gpa))\n",
    "    print(\"Letter: {}\".format(student.letter))\n",
    "\n",
    "if __name__ == \"__main__\":\n",
    "    main()"
   ]
  },
  {
   "cell_type": "code",
   "execution_count": null,
   "metadata": {},
   "outputs": [],
   "source": []
  }
 ],
 "metadata": {
  "kernelspec": {
   "display_name": "Python 3",
   "language": "python",
   "name": "python3"
  },
  "language_info": {
   "codemirror_mode": {
    "name": "ipython",
    "version": 3
   },
   "file_extension": ".py",
   "mimetype": "text/x-python",
   "name": "python",
   "nbconvert_exporter": "python",
   "pygments_lexer": "ipython3",
   "version": "3.7.3"
  }
 },
 "nbformat": 4,
 "nbformat_minor": 2
}
