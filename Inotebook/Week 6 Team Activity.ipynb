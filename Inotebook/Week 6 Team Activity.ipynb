{
 "cells": [
  {
   "attachments": {
    "image.png": {
     "image/png": "[encoded data removed]"
    }
   },
   "cell_type": "markdown",
   "metadata": {},
   "source": [
    "Create a class to represent a `Circle`, based on a provided `Point` class. It has a __center (x, y)__ and a __radius__. Because a Circle has an x and a y coordinate, and more, one way to view it, would be to consider that a Circle __IS-A__ Point. In this case, the Circle class would inherit from the Point class and simply add a radius to it.\n",
    "\n",
    "On the other hand, another way to view the problem is to consider that a circle __HAS-A__ point as its center and then also has a radius. With this approach the Circle would not inherit from the Point class, but rather, would have a member variable that is of type Point.\n",
    "\n",
    "For this activity, we will explore both options, first focusing on the IS-A relationship, and then the HAS-A approach.\n",
    "\n",
    "Begin by creating a simple point class to match the following diagram :\n",
    "\n",
    "![image.png](attachment:image.png)\n",
    "\n",
    "## CORE REQUIREMENTS\n",
    "\n",
    "1. Create the Point class as defined above. Then, create the Circle class as follows:\n",
    "\n",
    "    * Create a Circle class that inherits from, or extends, the Point class.\n",
    "\n",
    "    * Create a blank method for prompt_for_circle and display.\n",
    "\n",
    "    * In main, call these functions and ensure that everything compiles.\n",
    "    \n",
    "\n",
    "2. Implement the prompt_for_circle method. It should ask for a Circle as follows:\n",
    "\n",
    "> Enter x: 1  \n",
    "> Enter y: 2  \n",
    "> Enter radius: 3  \n",
    "\n",
    "3. Implement the display method. It should display a Circle as follows:\n",
    "\n",
    "> Center:  \n",
    "> (1, 2)  \n",
    "> Radius: 3"
   ]
  },
  {
   "cell_type": "code",
   "execution_count": 1,
   "metadata": {},
   "outputs": [],
   "source": [
    "class Point:\n",
    "    \n",
    "    def __init__(self):\n",
    "        self.x = 0.0\n",
    "        self.y = 0.0\n",
    "        \n",
    "    def prompt_for_point(self):\n",
    "        self.x = float(input(\"Enter x: \"))\n",
    "        self.y = float(input(\"Enter y: \"))\n",
    "        \n",
    "    def display(self):\n",
    "        print(\"({:.0f},{:.0f})\".format(self.x, self.y))"
   ]
  },
  {
   "cell_type": "code",
   "execution_count": 2,
   "metadata": {},
   "outputs": [],
   "source": [
    "class Circle(Point):\n",
    "    \n",
    "    def __init__(self):\n",
    "        super().__init__()\n",
    "        self.radius = 0.0\n",
    "        \n",
    "    def prompt_for_circle(self):\n",
    "        self.prompt_for_point()\n",
    "        self.radius = float(input(\"Enter radius: \"))\n",
    "    \n",
    "    def display(self):\n",
    "        print(\"Center:\")\n",
    "        super().display()\n",
    "        print(\"Radius: {:.0f}\".format(self.radius))"
   ]
  },
  {
   "cell_type": "code",
   "execution_count": 3,
   "metadata": {},
   "outputs": [
    {
     "name": "stdout",
     "output_type": "stream",
     "text": [
      "Enter x: 1\n",
      "Enter y: 2\n",
      "Enter radius: 3\n",
      "Center:\n",
      "(1,2)\n",
      "Radius: 3\n"
     ]
    }
   ],
   "source": [
    "def main():\n",
    "    circle = Circle()\n",
    "    circle.prompt_for_circle()\n",
    "    circle.display()\n",
    "    \n",
    "if __name__ == \"__main__\":\n",
    "    main()"
   ]
  },
  {
   "cell_type": "markdown",
   "metadata": {},
   "source": [
    "## STRETCH CHALLENGES\n",
    "\n",
    "you will repeat the activity using a HAS-A relationship.\n",
    "\n",
    "1. This time your `Circle` should NOT inherit from `Point`, but rather should have a Point as a member variable called center.\n",
    "\n",
    "2. Implement the prompt_for_circle and display methods for your Circle class as before."
   ]
  },
  {
   "cell_type": "code",
   "execution_count": 4,
   "metadata": {},
   "outputs": [],
   "source": [
    "class Circle:\n",
    "    \n",
    "    def __init__(self):\n",
    "        self.center = Point()\n",
    "        self.radius = 0.0\n",
    "        \n",
    "    def prompt_for_circle(self):\n",
    "        self.center.prompt_for_point()\n",
    "        self.radius = float(input(\"Enter radius: \"))\n",
    "    \n",
    "    def display(self):\n",
    "        print(\"Center:\")\n",
    "        self.center.display()\n",
    "        print(\"Radius: {:.0f}\".format(self.radius))"
   ]
  },
  {
   "cell_type": "code",
   "execution_count": 5,
   "metadata": {},
   "outputs": [
    {
     "name": "stdout",
     "output_type": "stream",
     "text": [
      "Enter x: 1\n",
      "Enter y: 2\n",
      "Enter radius: 3\n",
      "Center:\n",
      "(1,2)\n",
      "Radius: 3\n"
     ]
    }
   ],
   "source": [
    "def main():\n",
    "    circle = Circle()\n",
    "    circle.prompt_for_circle()\n",
    "    circle.display()\n",
    "    \n",
    "if __name__ == \"__main__\":\n",
    "    main()"
   ]
  }
 ],
 "metadata": {
  "kernelspec": {
   "display_name": "Python 3",
   "language": "python",
   "name": "python3"
  },
  "language_info": {
   "codemirror_mode": {
    "name": "ipython",
    "version": 3
   },
   "file_extension": ".py",
   "mimetype": "text/x-python",
   "name": "python",
   "nbconvert_exporter": "python",
   "pygments_lexer": "ipython3",
   "version": "3.7.3"
  }
 },
 "nbformat": 4,
 "nbformat_minor": 2
}
