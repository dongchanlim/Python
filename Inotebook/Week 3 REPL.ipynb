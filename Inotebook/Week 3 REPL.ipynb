{
 "cells": [
  {
   "cell_type": "markdown",
   "metadata": {},
   "source": [
    "# Rectangle Class\n",
    "\n",
    "This is the example of creating class `Rectangle`."
   ]
  },
  {
   "cell_type": "code",
   "execution_count": 3,
   "metadata": {},
   "outputs": [],
   "source": [
    "class Rectangle:\n",
    "    # Defining the attributes of class (Object)\n",
    "    def __init__(self):\n",
    "        self.height = 5\n",
    "        self.width = 3\n",
    "    # Prompt height and width of rectangle to user\n",
    "    def prompt(self):\n",
    "        self.height = int(input(\"Enter height: \"))\n",
    "        self.width = int(input(\"Enter width: \"))\n",
    "    # calculate area with height and width and print the result\n",
    "    def disp_area(self):\n",
    "        area = self.height * self.width;\n",
    "        print(\"area = {}\" .format(area))\n",
    "    # calculate perimeter with height and width and print the result\n",
    "    def disp_perimeter(self):\n",
    "        perimeter = 2 * (self.height + self.width)\n",
    "        print(\"perm = {}\" . format(perimeter))"
   ]
  },
  {
   "cell_type": "code",
   "execution_count": 4,
   "metadata": {},
   "outputs": [],
   "source": [
    "def main():\n",
    "    # Creating object r1 and implement methods\n",
    "    r1 = Rectangle()\n",
    "    print(r1)\n",
    "    r1.prompt()\n",
    "    r1.disp_area()\n",
    "    r1.disp_perimeter()\n",
    "    \n",
    "    # Creating object r1 and implement methods\n",
    "    r2 = Rectangle()\n",
    "    print(r2)\n",
    "    r2.prompt()\n",
    "    r2.disp_area()\n",
    "    r2.disp_perimeter()\n",
    "\n",
    "    # Reprompting the height and width of r2 and implement methods\n",
    "    r2.prompt()\n",
    "    r2.disp_area()\n",
    "    r2.disp_perimeter()"
   ]
  },
  {
   "cell_type": "code",
   "execution_count": 5,
   "metadata": {},
   "outputs": [
    {
     "name": "stdout",
     "output_type": "stream",
     "text": [
      "<__main__.Rectangle object at 0x062FA530>\n",
      "Enter height: 5\n",
      "Enter width: 3\n",
      "area = 15\n",
      "perm = 16\n",
      "<__main__.Rectangle object at 0x062FA750>\n",
      "Enter height: 10\n",
      "Enter width: 2\n",
      "area = 20\n",
      "perm = 24\n",
      "Enter height: 4\n",
      "Enter width: 2\n",
      "area = 8\n",
      "perm = 12\n"
     ]
    }
   ],
   "source": [
    "if __name__ == \"__main__\":\n",
    "    main()"
   ]
  },
  {
   "cell_type": "markdown",
   "metadata": {},
   "source": [
    "# Hobbit Class\n",
    "\n",
    "This is the `Hobbit` class which is applicable to simple game object."
   ]
  },
  {
   "cell_type": "code",
   "execution_count": 6,
   "metadata": {},
   "outputs": [],
   "source": [
    "class Hobbit:\n",
    "  \n",
    "    def __init__(self):\n",
    "        self.strength = 10\n",
    "        self.eat_again = 4\n",
    "\n",
    "    def walk(self):\n",
    "        if self.eat_again <= 0:\n",
    "            print(\"Need to eat!\")\n",
    "        else:\n",
    "            self.strength -= 1\n",
    "            self.eat_again -= 1\n",
    "\n",
    "    def sleep(self):\n",
    "        if self.eat_again <= 0:\n",
    "            print(\"Need to eat!\")\n",
    "        else:\n",
    "            self.strength += 1\n",
    "            self.eat_again -= 1\n",
    "\n",
    "    def eat(self):\n",
    "        self.strength += 2\n",
    "        self.eat_again = 4\n",
    "\n",
    "    def display(self):\n",
    "        print(\"Hobbit Strength: {}  Eat Again: {}\" .format(self.strength, self.eat_again))"
   ]
  },
  {
   "cell_type": "code",
   "execution_count": 7,
   "metadata": {},
   "outputs": [],
   "source": [
    "def main():\n",
    "    # Create object frodo with Hobbit class\n",
    "    frodo = Hobbit()\n",
    "    choice = None\n",
    "    # As entering the command, frodo object will implement corresponding method.\n",
    "    while choice != \"q\":\n",
    "        frodo.display()\n",
    "        choice = input(\"(w)alk (s)leep (e)at (q)uit  >\")\n",
    "        if choice == \"w\":\n",
    "            frodo.walk()\n",
    "        elif choice == \"s\":\n",
    "            frodo.sleep()\n",
    "        elif choice == \"e\":\n",
    "            frodo.eat()\n",
    "        print()"
   ]
  },
  {
   "cell_type": "code",
   "execution_count": 8,
   "metadata": {},
   "outputs": [
    {
     "name": "stdout",
     "output_type": "stream",
     "text": [
      "Hobbit Strength: 10  Eat Again: 4\n",
      "(w)alk (s)leep (e)at (q)uit  >q\n",
      "\n"
     ]
    }
   ],
   "source": [
    "if __name__ == \"__main__\":\n",
    "  main()"
   ]
  },
  {
   "cell_type": "markdown",
   "metadata": {},
   "source": [
    "# User Class\n",
    "\n",
    "This class is useful for building login system. "
   ]
  },
  {
   "cell_type": "code",
   "execution_count": 1,
   "metadata": {},
   "outputs": [],
   "source": [
    "class User:\n",
    "  \n",
    "  def __init__(self, username, password):\n",
    "    self.username = username\n",
    "    self.password = password\n",
    "    \n",
    "  def check(self):\n",
    "    entered_username = input(\"Username: \")\n",
    "    entered_password = input(\"Password: \")\n",
    "    if (self.username == entered_username and\n",
    "        self.password == entered_password):\n",
    "          print(\"Success\")\n",
    "    else:\n",
    "          print(\"Failed\")\n",
    "          \n",
    "  def reset(self):\n",
    "    self.password = input(\"Password: \")"
   ]
  },
  {
   "cell_type": "code",
   "execution_count": 2,
   "metadata": {},
   "outputs": [],
   "source": [
    "def main():\n",
    "    user = User(\"abc123\",\"password\")\n",
    "    user.check()\n",
    "    user.reset()\n",
    "    user.check()"
   ]
  },
  {
   "cell_type": "code",
   "execution_count": null,
   "metadata": {},
   "outputs": [],
   "source": [
    "if __name__ == \"__main__\":\n",
    "    main()"
   ]
  }
 ],
 "metadata": {
  "kernelspec": {
   "display_name": "Python 3",
   "language": "python",
   "name": "python3"
  },
  "language_info": {
   "codemirror_mode": {
    "name": "ipython",
    "version": 3
   },
   "file_extension": ".py",
   "mimetype": "text/x-python",
   "name": "python",
   "nbconvert_exporter": "python",
   "pygments_lexer": "ipython3",
   "version": "3.7.3"
  }
 },
 "nbformat": 4,
 "nbformat_minor": 2
}
