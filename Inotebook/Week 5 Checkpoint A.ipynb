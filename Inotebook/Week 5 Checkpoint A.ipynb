{
 "cells": [
  {
   "attachments": {
    "ship%20UML%20diagram.PNG": {
     "image/png": "[encoded data removed]"
    }
   },
   "cell_type": "markdown",
   "metadata": {},
   "source": [
    "For this exercise, you will create a class that models a ship flying around in a 2-D plain (containing an x and y coordinate). A game class is provided to you that will help you call methods to advance and \"draw\" it.\n",
    "\n",
    "Write a class for a ship that has integer __x__ and __y__ `coordinates`, and also stores the components of its `velocity`, __dx__ and __dy__. (you can store all four as member variables of your ship class.)\n",
    "\n",
    "The ship should have two methods, one for `advance`, and one for `draw`. The advance method should move the ship forward one unit in time. This is accomplished by adding dx onto x, and dy onto y. This draw method should output, \"Drawing the ship at (x, y)\" where x and y represent the current location of the ship. The `__init__` method for the ship should __initialize x, y, dx, and dy to 0__.\n",
    "\n",
    "For this assignment, the provided main function will set the velocity of the ship when it is created, and the velocity will remain constant for the rest of that run.\n",
    "\n",
    "The following UML class diagram defines your ship class:\n",
    "\n",
    "![ship%20UML%20diagram.PNG](attachment:ship%20UML%20diagram.PNG)\n",
    "\n",
    "To go with your ship class, you will be provided with a Game class and a main function. The Game class has a ship, and two important functions, on_draw() and update(). In your the on_draw function, you simply need to call the ship's draw function. In the update function, you simply need to call the ship's advance function. \n",
    "\n",
    "for this checkpoint, you need to do the following.\n",
    "\n",
    "> 1. Create a Ship class  \n",
    "> 2. Create an __init__ method that sets x, y, dx, and dy to 0.  \n",
    "> 3. Create a draw method that prints the text, \"Drawing ship at (x, y)\".  \n",
    "> 4. Create an advance method that adds dx to x, and dy to y.  \n",
    "> 5. In the Game class on_draw method, call your ship's draw method.  \n",
    "> 6. In the Game class update method, call your ship's advance method.  "
   ]
  },
  {
   "cell_type": "code",
   "execution_count": 2,
   "metadata": {},
   "outputs": [],
   "source": [
    "import random\n",
    "\n",
    "\n",
    "# Define Ship class here\n",
    "class Ship:\n",
    "    def __init__(self):\n",
    "        self.x = 0\n",
    "        self.y = 0\n",
    "        self.dx = 0\n",
    "        self.dy = 0\n",
    "        \n",
    "    def advance(self):\n",
    "        self.x += self.dx\n",
    "        self.y += self.dy\n",
    "        \n",
    "    def draw(self):\n",
    "        print(\"Drawing the ship at ({}, {})\".format(self.x, self.y))"
   ]
  },
  {
   "cell_type": "code",
   "execution_count": 3,
   "metadata": {},
   "outputs": [],
   "source": [
    "# Define Game class\n",
    "class Game:\n",
    "    def __init__(self, dx, dy):\n",
    "        self.ship = Ship()\n",
    "        self.ship.dx = dx\n",
    "        self.ship.dy = dy\n",
    "\n",
    "    def on_draw(self):\n",
    "        self.ship.draw()\n",
    "\n",
    "    def update(self):\n",
    "        self.ship.advance()"
   ]
  },
  {
   "cell_type": "code",
   "execution_count": 4,
   "metadata": {},
   "outputs": [],
   "source": [
    "def main():\n",
    "    \"\"\"\n",
    "    The main function sets up the game class and calls its\n",
    "    methods repeatedly, just like will happen in actual games.\n",
    "    \"\"\"\n",
    "    seed = input(\"Enter a random seed: \")\n",
    "    random.seed(seed)\n",
    "    dx = random.randint(-4, 4)\n",
    "    dy = random.randint(-4, 4)\n",
    "    print(\"Starting the ship with velocity ({}, {})\".format(dx, dy))\n",
    "    game = Game(dx, dy)\n",
    "\n",
    "    for i in range(20):\n",
    "        game.update()\n",
    "        game.on_draw()"
   ]
  },
  {
   "cell_type": "code",
   "execution_count": 5,
   "metadata": {},
   "outputs": [
    {
     "name": "stdout",
     "output_type": "stream",
     "text": [
      "Enter a random seed: 1000\n",
      "Starting the ship with velocity (3, -1)\n",
      "Drawing the ship at (3, -1)\n",
      "Drawing the ship at (6, -2)\n",
      "Drawing the ship at (9, -3)\n",
      "Drawing the ship at (12, -4)\n",
      "Drawing the ship at (15, -5)\n",
      "Drawing the ship at (18, -6)\n",
      "Drawing the ship at (21, -7)\n",
      "Drawing the ship at (24, -8)\n",
      "Drawing the ship at (27, -9)\n",
      "Drawing the ship at (30, -10)\n",
      "Drawing the ship at (33, -11)\n",
      "Drawing the ship at (36, -12)\n",
      "Drawing the ship at (39, -13)\n",
      "Drawing the ship at (42, -14)\n",
      "Drawing the ship at (45, -15)\n",
      "Drawing the ship at (48, -16)\n",
      "Drawing the ship at (51, -17)\n",
      "Drawing the ship at (54, -18)\n",
      "Drawing the ship at (57, -19)\n",
      "Drawing the ship at (60, -20)\n"
     ]
    }
   ],
   "source": [
    "if __name__ == \"__main__\":\n",
    "    main()"
   ]
  },
  {
   "cell_type": "code",
   "execution_count": null,
   "metadata": {},
   "outputs": [],
   "source": []
  }
 ],
 "metadata": {
  "kernelspec": {
   "display_name": "Python 3",
   "language": "python",
   "name": "python3"
  },
  "language_info": {
   "codemirror_mode": {
    "name": "ipython",
    "version": 3
   },
   "file_extension": ".py",
   "mimetype": "text/x-python",
   "name": "python",
   "nbconvert_exporter": "python",
   "pygments_lexer": "ipython3",
   "version": "3.7.3"
  }
 },
 "nbformat": 4,
 "nbformat_minor": 2
}
