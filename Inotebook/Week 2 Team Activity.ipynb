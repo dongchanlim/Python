{
 "cells": [
  {
   "cell_type": "markdown",
   "metadata": {},
   "source": [
    "Write a Python 3 program to read the contents of a file and count the occurrences of a particular word.\n",
    "\n",
    "Write a program that prompts the user for a file, reads it line by line, splits it into words, and then counts the number of times the word \"pride\" occurs."
   ]
  },
  {
   "cell_type": "markdown",
   "metadata": {},
   "source": [
    "* [burton.txt](https://content.byui.edu/file/2d56f586-44ba-4e35-9d65-19bc32b5d489/1/CS241/week02/burton.txt)- Very small. Useful for first pass testing.\n",
    "* [benson.txt](https://content.byui.edu/file/2d56f586-44ba-4e35-9d65-19bc32b5d489/1/CS241/week02/benson.txt) - Much larger...useful for pondering ;-)."
   ]
  },
  {
   "cell_type": "markdown",
   "metadata": {},
   "source": [
    "# CORE REQUIREMENTS"
   ]
  },
  {
   "cell_type": "markdown",
   "metadata": {},
   "source": [
    "1. Create a function prompt_filename that prompts the user for a filename and returns it. Create a main function that calls the prompt_filename function, and displays the text, (Opening file '...') replacing the \"...\" with the actual filename. Then, use the `__name__` syntax to call the initial main function. Run your program and ensure that it words correctly."
   ]
  },
  {
   "cell_type": "code",
   "execution_count": 1,
   "metadata": {},
   "outputs": [],
   "source": [
    "import string"
   ]
  },
  {
   "cell_type": "code",
   "execution_count": 2,
   "metadata": {},
   "outputs": [],
   "source": [
    "def prompt_filename():\n",
    "    file = input(\"file name: \")\n",
    "    return file"
   ]
  },
  {
   "cell_type": "code",
   "execution_count": 3,
   "metadata": {},
   "outputs": [],
   "source": [
    "def main():\n",
    "    file = prompt_filename()\n",
    "    print('Opending file {}'.format(file))"
   ]
  },
  {
   "cell_type": "code",
   "execution_count": 4,
   "metadata": {},
   "outputs": [
    {
     "name": "stdout",
     "output_type": "stream",
     "text": [
      "file name: burton.txt\n",
      "Opending file burton.txt\n"
     ]
    }
   ],
   "source": [
    "if __name__ == \"__main__\":\n",
    "    main()"
   ]
  },
  {
   "cell_type": "markdown",
   "metadata": {},
   "source": [
    "2. Create another function, __parse_file__ that should receive a filename from main. It should then open the file and read through it line by line and word by word. For testing purposes, at this point print out each word in the file at this point."
   ]
  },
  {
   "cell_type": "code",
   "execution_count": 52,
   "metadata": {},
   "outputs": [
    {
     "name": "stdout",
     "output_type": "stream",
     "text": [
      "file name: burton.txt\n",
      "Opending file burton.txt\n",
      "Write\n",
      "a\n",
      "program\n",
      "that\n",
      "prompts\n",
      "the\n",
      "user\n",
      "for\n",
      "a\n",
      "file\n",
      "reads\n",
      "it\n",
      "line\n",
      "by\n",
      "line\n",
      "splits\n",
      "it\n",
      "into\n",
      "words\n",
      "and\n",
      "then\n",
      "counts\n",
      "the\n",
      "number\n",
      "of\n",
      "times\n",
      "the\n",
      "word\n",
      "pride\n",
      "occurs\n"
     ]
    }
   ],
   "source": [
    "def parse_file():\n",
    "    file = prompt_filename()\n",
    "    print('Opending file {}'.format(file))\n",
    "    with open(file, \"r\", encoding = 'UTF-8') as file_in:\n",
    "        for line in file_in:\n",
    "            words = line.replace(\",\",\"\").replace(\".\",\"\").replace(\"\\\"\",\"\").split(\" \")\n",
    "            for word in words:\n",
    "                print(word)\n",
    "\n",
    "parse_file()"
   ]
  },
  {
   "cell_type": "markdown",
   "metadata": {},
   "source": [
    "3. Change your __parse_file__ function so that it does not print anything out, but instead counts the number of times the word \"pride\" occurs. Have the function return this number and then change main to display this to the screen (e.g., \"The word pride occurs xx times in this file\")."
   ]
  },
  {
   "cell_type": "code",
   "execution_count": 53,
   "metadata": {},
   "outputs": [],
   "source": [
    "def parse_file():\n",
    "    file = prompt_filename()\n",
    "    print('Opending file {}'.format(file))\n",
    "    with open(file,\"r\", encoding = 'UTF-8') as file_in:\n",
    "        target_word = \"pride\"\n",
    "        count = 0\n",
    "        for line in file_in:\n",
    "            words = line.strip().split()\n",
    "            for word in words:\n",
    "                if word.find(target_word) != -1:\n",
    "                    count += 1\n",
    "    return count"
   ]
  },
  {
   "cell_type": "code",
   "execution_count": 54,
   "metadata": {},
   "outputs": [],
   "source": [
    "def main():\n",
    "    count = parse_file()\n",
    "    print(\"The word pride occurs {} times in this file\".format(count))"
   ]
  },
  {
   "cell_type": "code",
   "execution_count": 55,
   "metadata": {},
   "outputs": [
    {
     "name": "stdout",
     "output_type": "stream",
     "text": [
      "file name: burton.txt\n",
      "Opending file burton.txt\n",
      "The word pride occurs 1 times in this file\n"
     ]
    }
   ],
   "source": [
    "if __name__ == \"__main__\":\n",
    "    main()"
   ]
  },
  {
   "cell_type": "markdown",
   "metadata": {},
   "source": [
    "# STRETCH CHALLENGES"
   ]
  },
  {
   "cell_type": "markdown",
   "metadata": {},
   "source": [
    "1. Change your program so that it is case-insensitive. In other words, both \"Pride\" and \"pride\" should be counted."
   ]
  },
  {
   "cell_type": "code",
   "execution_count": 39,
   "metadata": {},
   "outputs": [],
   "source": [
    "def parse_file():\n",
    "    file = prompt_filename()\n",
    "    print('Opending file {}'.format(file))\n",
    "    with open(file,\"r\", encoding = 'UTF-8') as file_in:\n",
    "        target_word = \"pride\"\n",
    "        count = 0\n",
    "        for line in file_in:\n",
    "            words = line.lower().strip().split()\n",
    "            for word in words:\n",
    "                if word.find(target_word) != -1:\n",
    "                    count += 1\n",
    "    return count"
   ]
  },
  {
   "cell_type": "code",
   "execution_count": 40,
   "metadata": {},
   "outputs": [],
   "source": [
    "def main():\n",
    "    count = parse_file()\n",
    "    print(\"The word pride occurs {} times in this file\".format(count))"
   ]
  },
  {
   "cell_type": "code",
   "execution_count": 41,
   "metadata": {},
   "outputs": [
    {
     "name": "stdout",
     "output_type": "stream",
     "text": [
      "file name: burton.txt\n",
      "Opending file burton.txt\n",
      "The word pride occurs 1 times in this file\n"
     ]
    }
   ],
   "source": [
    "if __name__ == \"__main__\":\n",
    "    main()"
   ]
  },
  {
   "cell_type": "markdown",
   "metadata": {},
   "source": [
    "2. Change your program so that it can count any word, not just \"pride\". Add a function to prompt the user for the word of their choice, then pass that word to the parse_file function and use it when displaying your results."
   ]
  },
  {
   "cell_type": "code",
   "execution_count": null,
   "metadata": {},
   "outputs": [],
   "source": [
    "def prompt_word():\n",
    "    target_word = input(\"Type the word: \").lower()\n",
    "    return target_word"
   ]
  },
  {
   "cell_type": "code",
   "execution_count": null,
   "metadata": {},
   "outputs": [],
   "source": [
    "def parse_file():\n",
    "    file = prompt_filename()\n",
    "    print('Opending file {}'.format(file))\n",
    "    with open(file,\"r\", encoding = 'UTF-8') as file_in:\n",
    "        target_word = prompt_word()\n",
    "        count = 0\n",
    "        for line in file_in:\n",
    "            words = line.lower().strip().split()\n",
    "            for word in words:\n",
    "                if word.find(target_word) != -1:\n",
    "                    count += 1\n",
    "    return count"
   ]
  },
  {
   "cell_type": "code",
   "execution_count": null,
   "metadata": {},
   "outputs": [],
   "source": [
    "def main():\n",
    "    count = parse_file()\n",
    "    print(\"The word pride occurs {} times in this file\".format(count))"
   ]
  },
  {
   "cell_type": "code",
   "execution_count": null,
   "metadata": {},
   "outputs": [],
   "source": [
    "if __name__ == \"__main__\":\n",
    "    main()"
   ]
  },
  {
   "cell_type": "markdown",
   "metadata": {},
   "source": [
    "3. Change your program so that it counts any words that contain the user's word as well. For example, if the user enters \"pride\" the words \"pride\" and \"prideful\" would both be counted."
   ]
  },
  {
   "cell_type": "code",
   "execution_count": 29,
   "metadata": {},
   "outputs": [],
   "source": [
    "def prompt_word():\n",
    "    target_word = input(\"Type the word: \").lower()\n",
    "    return target_word"
   ]
  },
  {
   "cell_type": "code",
   "execution_count": 30,
   "metadata": {},
   "outputs": [],
   "source": [
    "def parse_file():\n",
    "    file = prompt_filename()\n",
    "    print('Opending file {}'.format(file))\n",
    "    with open(file,\"r\", encoding = 'UTF-8') as file_in:\n",
    "        target_word = prompt_word()\n",
    "        count = 0\n",
    "        for line in file_in:\n",
    "            words = line.strip().split()\n",
    "            for word in words:\n",
    "                if target_word in word:\n",
    "                    count += 1\n",
    "    return count"
   ]
  },
  {
   "cell_type": "code",
   "execution_count": 31,
   "metadata": {},
   "outputs": [],
   "source": [
    "def main():\n",
    "    count = parse_file()\n",
    "    print(\"The word pride occurs {} times in this file\".format(count))"
   ]
  },
  {
   "cell_type": "code",
   "execution_count": 32,
   "metadata": {},
   "outputs": [
    {
     "name": "stdout",
     "output_type": "stream",
     "text": [
      "file name: burton.txt\n",
      "Opending file burton.txt\n",
      "Type the word: pride\n",
      "The word pride occurs 1 times in this file\n"
     ]
    }
   ],
   "source": [
    "if __name__ == \"__main__\":\n",
    "    main()"
   ]
  }
 ],
 "metadata": {
  "kernelspec": {
   "display_name": "Python 3",
   "language": "python",
   "name": "python3"
  },
  "language_info": {
   "codemirror_mode": {
    "name": "ipython",
    "version": 3
   },
   "file_extension": ".py",
   "mimetype": "text/x-python",
   "name": "python",
   "nbconvert_exporter": "python",
   "pygments_lexer": "ipython3",
   "version": "3.7.3"
  }
 },
 "nbformat": 4,
 "nbformat_minor": 2
}
