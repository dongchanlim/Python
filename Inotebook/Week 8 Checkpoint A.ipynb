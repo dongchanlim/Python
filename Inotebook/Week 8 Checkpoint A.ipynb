{
 "cells": [
  {
   "cell_type": "markdown",
   "metadata": {},
   "source": [
    "## Objective\n",
    "practice getter and setter functions"
   ]
  },
  {
   "cell_type": "markdown",
   "metadata": {},
   "source": [
    "## Instructions\n",
    "\n",
    "Create a class to represent a `GPA` and then make __getters__ and __setters__ to get and set both the value and also the letter grade equivalent.\n",
    "\n",
    "Create a class to hold a student's GPA. __This GPA should be in the range of 0.0 to 4.0__. Your class should only store the numeric gpa value, NOT a letter. It will have getters and setters that work with the letter, but do so indirectly, as described below.\n",
    "\n",
    "Create an `__init__()` function to set the initial value to 0.0.\n",
    "\n",
    "Create a function for `get_gpa()` and `set_gpa(value)` that get and set the GPA stored in this class. If a GPA less that 0 is entered, you should not set the internal value to that, but instead, set it to 0. Similarly, if a value greater than 4 is entered, you should instead set the value to 4.0.\n",
    "\n",
    "You should also create a function for `get_letter()` and `set_letter(letter)`. But you should NOT store the letter internally. Instead, when someone calls the get_letter() function, you should determine the correct letter for the stored gpa, and return it. Similarly, when the set_letter() function is called, you should determine the appropriate gpa value and store that.\n",
    "\n",
    "For simplicity, you need not worry about \"+\" or \"-\" grades, but instead, return the following letters depending on the range:\n",
    "\n",
    "> F: 0.0-0.99  \n",
    "> D: 1.0-1.99  \n",
    "> C: 2.0-2.99  \n",
    "> B: 3.0-3.99  \n",
    "> A: 4.0  \n",
    "\n",
    "the `set_letter` function should set the following values for each letter:\n",
    "\n",
    "> F: 0.0  \n",
    "> D: 1.0  \n",
    "> C: 2.0  \n",
    "> B: 3.0  \n",
    "> A: 4.0  "
   ]
  },
  {
   "cell_type": "code",
   "execution_count": 1,
   "metadata": {},
   "outputs": [],
   "source": [
    "class GPA:\n",
    "    \n",
    "    def __init__(self):\n",
    "        self.gpa = 0.0\n",
    "        \n",
    "    def get_gpa(self):\n",
    "        return self.gpa\n",
    "    \n",
    "    def set_gpa(self, gpa):\n",
    "        if gpa < 0:\n",
    "            self.gpa = 0.0\n",
    "        elif gpa > 4:\n",
    "            self.gpa = 4.0\n",
    "        else:\n",
    "            self.gpa = gpa\n",
    "            \n",
    "    def get_letter(self):\n",
    "        if self.gpa < 1:\n",
    "            return \"F\"\n",
    "        elif self.gpa < 2:\n",
    "            return \"D\"\n",
    "        elif self.gpa < 3:\n",
    "            return \"C\"\n",
    "        elif self.gpa < 4:\n",
    "            return \"B\"\n",
    "        else:\n",
    "            return \"A\"\n",
    "        \n",
    "    def set_letter(self, letter):\n",
    "        if letter == \"F\":\n",
    "            self.gpa = 0\n",
    "        elif letter == \"D\":\n",
    "            self.gpa = 1\n",
    "        elif letter == \"C\":\n",
    "            self.gpa = 2\n",
    "        elif letter == \"B\":\n",
    "            self.gpa = 3\n",
    "        elif letter == \"A\":\n",
    "            self.gpa = 4        "
   ]
  },
  {
   "cell_type": "markdown",
   "metadata": {},
   "source": [
    "## Main Function"
   ]
  },
  {
   "cell_type": "code",
   "execution_count": 2,
   "metadata": {},
   "outputs": [
    {
     "name": "stdout",
     "output_type": "stream",
     "text": [
      "Initial values:\n",
      "GPA: 0.00\n",
      "Letter: F\n",
      "Enter a new GPA: 3.6\n",
      "After setting value:\n",
      "GPA: 3.60\n",
      "Letter: B\n",
      "Enter a new letter: A\n",
      "After setting letter:\n",
      "GPA: 4.00\n",
      "Letter: A\n"
     ]
    }
   ],
   "source": [
    "def main():\n",
    "    student = GPA()\n",
    "\n",
    "    print(\"Initial values:\")\n",
    "    print(\"GPA: {:.2f}\".format(student.get_gpa()))\n",
    "    print(\"Letter: {}\".format(student.get_letter()))\n",
    "\n",
    "    value = float(input(\"Enter a new GPA: \"))\n",
    "\n",
    "    student.set_gpa(value)\n",
    "\n",
    "    print(\"After setting value:\")\n",
    "    print(\"GPA: {:.2f}\".format(student.get_gpa()))\n",
    "    print(\"Letter: {}\".format(student.get_letter()))\n",
    "\n",
    "    letter = input(\"Enter a new letter: \")\n",
    "\n",
    "    student.set_letter(letter)\n",
    "\n",
    "    print(\"After setting letter:\")\n",
    "    print(\"GPA: {:.2f}\".format(student.get_gpa()))\n",
    "    print(\"Letter: {}\".format(student.get_letter()))\n",
    "\n",
    "if __name__ == \"__main__\":\n",
    "    main()"
   ]
  },
  {
   "cell_type": "code",
   "execution_count": null,
   "metadata": {},
   "outputs": [],
   "source": []
  }
 ],
 "metadata": {
  "kernelspec": {
   "display_name": "Python 3",
   "language": "python",
   "name": "python3"
  },
  "language_info": {
   "codemirror_mode": {
    "name": "ipython",
    "version": 3
   },
   "file_extension": ".py",
   "mimetype": "text/x-python",
   "name": "python",
   "nbconvert_exporter": "python",
   "pygments_lexer": "ipython3",
   "version": "3.7.3"
  }
 },
 "nbformat": 4,
 "nbformat_minor": 2
}
