{
 "cells": [
  {
   "cell_type": "markdown",
   "metadata": {},
   "source": [
    "# Functions"
   ]
  },
  {
   "cell_type": "code",
   "execution_count": 1,
   "metadata": {},
   "outputs": [],
   "source": [
    "import math"
   ]
  },
  {
   "cell_type": "markdown",
   "metadata": {},
   "source": [
    "1. Get the area of a circle"
   ]
  },
  {
   "cell_type": "code",
   "execution_count": 3,
   "metadata": {},
   "outputs": [],
   "source": [
    "def get_circle_area(radius):\n",
    "    area = math.pi * (radius ** 2)\n",
    "    return area"
   ]
  },
  {
   "cell_type": "markdown",
   "metadata": {},
   "source": [
    "2. Ask user for the radius and return the area and circumfrence"
   ]
  },
  {
   "cell_type": "code",
   "execution_count": 4,
   "metadata": {},
   "outputs": [],
   "source": [
    "def circle_calculator():\n",
    "    radius = float(input(\"What is the radius: \"))\n",
    "    area = get_circle_area(radius)\n",
    "    circum = math.pi * 2 * radius\n",
    "    return (area, circum)"
   ]
  },
  {
   "cell_type": "markdown",
   "metadata": {},
   "source": [
    "3. Display all even numbers in a list"
   ]
  },
  {
   "cell_type": "code",
   "execution_count": 6,
   "metadata": {},
   "outputs": [],
   "source": [
    "def display_even(numbers):\n",
    "    for number in numbers:\n",
    "        if number % 2 == 0:\n",
    "            print(number)"
   ]
  },
  {
   "cell_type": "markdown",
   "metadata": {},
   "source": [
    "4. Prompt the user to add a name to the list"
   ]
  },
  {
   "cell_type": "code",
   "execution_count": 7,
   "metadata": {},
   "outputs": [],
   "source": [
    "def prompt_for_name(names):\n",
    "    new_name = input(\"Enter a new name: \")\n",
    "    names.append(new_name)"
   ]
  },
  {
   "cell_type": "code",
   "execution_count": 8,
   "metadata": {},
   "outputs": [],
   "source": [
    "def main():\n",
    "    print(\"Area of circle: {} \" .format(get_circle_area(2)))\n",
    "    (the_area, the_circumfrence) = circle_calculator()\n",
    "    print(\"Area = {} Circumfrence = {}\" .format(the_area, the_circumfrence))\n",
    "\n",
    "    display_even([1, 2, 3, 4, 5, 6, 7, 8, 9, 10])\n",
    "\n",
    "    names = [\"Bob\",\"Sam\",\"George\",\"Sue\"]\n",
    "    print(names)\n",
    "    prompt_for_name(names)\n",
    "    print(names)"
   ]
  },
  {
   "cell_type": "code",
   "execution_count": 9,
   "metadata": {},
   "outputs": [
    {
     "name": "stdout",
     "output_type": "stream",
     "text": [
      "Area of circle: 12.566370614359172 \n",
      "What is the radius: 10\n",
      "Area = 314.1592653589793 Circumfrence = 62.83185307179586\n",
      "2\n",
      "4\n",
      "6\n",
      "8\n",
      "10\n",
      "['Bob', 'Sam', 'George', 'Sue']\n",
      "Enter a new name: dongchan\n",
      "['Bob', 'Sam', 'George', 'Sue', 'dongchan']\n"
     ]
    }
   ],
   "source": [
    "if __name__ == \"__main__\":\n",
    "    main()"
   ]
  },
  {
   "cell_type": "markdown",
   "metadata": {},
   "source": [
    "# Files"
   ]
  },
  {
   "cell_type": "markdown",
   "metadata": {},
   "source": [
    "1. Populate the file with some stuff we can read"
   ]
  },
  {
   "cell_type": "code",
   "execution_count": 10,
   "metadata": {},
   "outputs": [],
   "source": [
    "def setup_file():\n",
    "  with open(\"file.txt\",\"w\") as file_out:\n",
    "    file_out.write(\"Name,Age,Phone\\n\")\n",
    "    file_out.write(\"George,42,208-555-1234\\n\")\n",
    "    file_out.write(\"Mary,35,208-555-2345\\n\")\n",
    "    file_out.write(\"Sam,23,208-555-5313\\n\")\n",
    "    file_out.write(\"Timmy,14,208-555-3523\\n\")"
   ]
  },
  {
   "cell_type": "markdown",
   "metadata": {},
   "source": [
    "2. Read the file one record at a time and call print_record"
   ]
  },
  {
   "cell_type": "code",
   "execution_count": 12,
   "metadata": {},
   "outputs": [],
   "source": [
    "def read_file():\n",
    "  with open(\"file.txt\",\"r\") as file_in:\n",
    "    next(file_in)\n",
    "    for line in file_in:\n",
    "      result = line.strip().split(\",\")\n",
    "      #print(result)\n",
    "      print_record(result)\n",
    "\n",
    "def print_record(record):\n",
    "  print(\"{} ({}) : {}\" .format(record[0],record[1],record[2]))"
   ]
  },
  {
   "cell_type": "markdown",
   "metadata": {},
   "source": [
    "3. Create the main as an entry point for your program.  "
   ]
  },
  {
   "cell_type": "code",
   "execution_count": 13,
   "metadata": {},
   "outputs": [],
   "source": [
    "def main():\n",
    "  setup_file()\n",
    "  read_file()"
   ]
  },
  {
   "cell_type": "code",
   "execution_count": 14,
   "metadata": {},
   "outputs": [
    {
     "name": "stdout",
     "output_type": "stream",
     "text": [
      "George (42) : 208-555-1234\n",
      "Mary (35) : 208-555-2345\n",
      "Sam (23) : 208-555-5313\n",
      "Timmy (14) : 208-555-3523\n"
     ]
    }
   ],
   "source": [
    "if __name__ == \"__main__\":\n",
    "  main()"
   ]
  }
 ],
 "metadata": {
  "kernelspec": {
   "display_name": "Python 3",
   "language": "python",
   "name": "python3"
  },
  "language_info": {
   "codemirror_mode": {
    "name": "ipython",
    "version": 3
   },
   "file_extension": ".py",
   "mimetype": "text/x-python",
   "name": "python",
   "nbconvert_exporter": "python",
   "pygments_lexer": "ipython3",
   "version": "3.7.3"
  }
 },
 "nbformat": 4,
 "nbformat_minor": 2
}
